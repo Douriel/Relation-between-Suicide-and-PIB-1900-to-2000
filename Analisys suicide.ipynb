{
 "cells": [
  {
   "cell_type": "markdown",
   "metadata": {},
   "source": [
    "# Practica Final"
   ]
  },
  {
   "cell_type": "code",
   "execution_count": 1,
   "metadata": {},
   "outputs": [
    {
     "name": "stdout",
     "output_type": "stream",
     "text": [
      "Once deleted, variables cannot be recovered. Proceed (y/[n])? y\n"
     ]
    }
   ],
   "source": [
    "%reset\n",
    "from mlxtend.frequent_patterns import apriori\n",
    "from mlxtend.preprocessing import TransactionEncoder\n",
    "from mlxtend.frequent_patterns import association_rules\n",
    "import numpy as np\n",
    "import pandas as pd\n",
    "import matplotlib.pyplot as plt\n",
    "from matplotlib.colors import ListedColormap\n",
    "import matplotlib.patches as mpatches\n",
    "import seaborn as sns\n",
    " \n",
    "%matplotlib inline\n",
    "plt.rcParams['figure.figsize'] = (20, 20)\n",
    "plt.style.use('ggplot')\n",
    "\n",
    "from sklearn import preprocessing\n",
    "from sklearn import utils\n",
    "from sklearn.model_selection import train_test_split\n",
    "from sklearn.preprocessing import MinMaxScaler\n",
    "from sklearn.neighbors import KNeighborsClassifier\n",
    "from sklearn.metrics import classification_report\n",
    "from sklearn.metrics import confusion_matrix\n",
    "\n",
    "from sklearn.cluster import KMeans\n",
    "from mpl_toolkits.mplot3d import Axes3D\n",
    "import sys\n",
    "from yellowbrick.cluster import KElbowVisualizer\n",
    "\n",
    "import warnings\n",
    "warnings.filterwarnings('ignore')"
   ]
  },
  {
   "cell_type": "markdown",
   "metadata": {},
   "source": [
    "<font color = \"blue\">\n",
    "    <p>En caso de que No funcione la librería KElbowVisualizer es porque no está instalada. Comando para instalar:</p>\n",
    "    conda install -c districtdatalabs yellowbrick </p>\n",
    "    <p>En caso de que No funcione la librería plotly.graph_objects es porque no está instalada. Comando para instalar:pip install plotly==4.14.3"
   ]
  },
  {
   "cell_type": "code",
   "execution_count": 2,
   "metadata": {},
   "outputs": [],
   "source": [
    "data = pd.read_csv('master.csv')\n",
    "data_algoritmos = data"
   ]
  },
  {
   "cell_type": "code",
   "execution_count": 3,
   "metadata": {
    "scrolled": true
   },
   "outputs": [
    {
     "data": {
      "text/html": [
       "<div>\n",
       "<style scoped>\n",
       "    .dataframe tbody tr th:only-of-type {\n",
       "        vertical-align: middle;\n",
       "    }\n",
       "\n",
       "    .dataframe tbody tr th {\n",
       "        vertical-align: top;\n",
       "    }\n",
       "\n",
       "    .dataframe thead th {\n",
       "        text-align: right;\n",
       "    }\n",
       "</style>\n",
       "<table border=\"1\" class=\"dataframe\">\n",
       "  <thead>\n",
       "    <tr style=\"text-align: right;\">\n",
       "      <th></th>\n",
       "      <th>country</th>\n",
       "      <th>year</th>\n",
       "      <th>sex</th>\n",
       "      <th>age</th>\n",
       "      <th>suicides_no</th>\n",
       "      <th>population</th>\n",
       "      <th>suicides/100k pop</th>\n",
       "      <th>country-year</th>\n",
       "      <th>HDI for year</th>\n",
       "      <th>gdp_for_year ($)</th>\n",
       "      <th>gdp_per_capita ($)</th>\n",
       "      <th>generation</th>\n",
       "    </tr>\n",
       "  </thead>\n",
       "  <tbody>\n",
       "    <tr>\n",
       "      <th>0</th>\n",
       "      <td>Albania</td>\n",
       "      <td>1987</td>\n",
       "      <td>male</td>\n",
       "      <td>15-24 years</td>\n",
       "      <td>21</td>\n",
       "      <td>312900</td>\n",
       "      <td>6.71</td>\n",
       "      <td>Albania1987</td>\n",
       "      <td>NaN</td>\n",
       "      <td>2,156,624,900</td>\n",
       "      <td>796</td>\n",
       "      <td>Generation X</td>\n",
       "    </tr>\n",
       "    <tr>\n",
       "      <th>1</th>\n",
       "      <td>Albania</td>\n",
       "      <td>1987</td>\n",
       "      <td>male</td>\n",
       "      <td>35-54 years</td>\n",
       "      <td>16</td>\n",
       "      <td>308000</td>\n",
       "      <td>5.19</td>\n",
       "      <td>Albania1987</td>\n",
       "      <td>NaN</td>\n",
       "      <td>2,156,624,900</td>\n",
       "      <td>796</td>\n",
       "      <td>Silent</td>\n",
       "    </tr>\n",
       "    <tr>\n",
       "      <th>2</th>\n",
       "      <td>Albania</td>\n",
       "      <td>1987</td>\n",
       "      <td>female</td>\n",
       "      <td>15-24 years</td>\n",
       "      <td>14</td>\n",
       "      <td>289700</td>\n",
       "      <td>4.83</td>\n",
       "      <td>Albania1987</td>\n",
       "      <td>NaN</td>\n",
       "      <td>2,156,624,900</td>\n",
       "      <td>796</td>\n",
       "      <td>Generation X</td>\n",
       "    </tr>\n",
       "    <tr>\n",
       "      <th>3</th>\n",
       "      <td>Albania</td>\n",
       "      <td>1987</td>\n",
       "      <td>male</td>\n",
       "      <td>75+ years</td>\n",
       "      <td>1</td>\n",
       "      <td>21800</td>\n",
       "      <td>4.59</td>\n",
       "      <td>Albania1987</td>\n",
       "      <td>NaN</td>\n",
       "      <td>2,156,624,900</td>\n",
       "      <td>796</td>\n",
       "      <td>G.I. Generation</td>\n",
       "    </tr>\n",
       "    <tr>\n",
       "      <th>4</th>\n",
       "      <td>Albania</td>\n",
       "      <td>1987</td>\n",
       "      <td>male</td>\n",
       "      <td>25-34 years</td>\n",
       "      <td>9</td>\n",
       "      <td>274300</td>\n",
       "      <td>3.28</td>\n",
       "      <td>Albania1987</td>\n",
       "      <td>NaN</td>\n",
       "      <td>2,156,624,900</td>\n",
       "      <td>796</td>\n",
       "      <td>Boomers</td>\n",
       "    </tr>\n",
       "    <tr>\n",
       "      <th>...</th>\n",
       "      <td>...</td>\n",
       "      <td>...</td>\n",
       "      <td>...</td>\n",
       "      <td>...</td>\n",
       "      <td>...</td>\n",
       "      <td>...</td>\n",
       "      <td>...</td>\n",
       "      <td>...</td>\n",
       "      <td>...</td>\n",
       "      <td>...</td>\n",
       "      <td>...</td>\n",
       "      <td>...</td>\n",
       "    </tr>\n",
       "    <tr>\n",
       "      <th>27815</th>\n",
       "      <td>Uzbekistan</td>\n",
       "      <td>2014</td>\n",
       "      <td>female</td>\n",
       "      <td>35-54 years</td>\n",
       "      <td>107</td>\n",
       "      <td>3620833</td>\n",
       "      <td>2.96</td>\n",
       "      <td>Uzbekistan2014</td>\n",
       "      <td>0.675</td>\n",
       "      <td>63,067,077,179</td>\n",
       "      <td>2309</td>\n",
       "      <td>Generation X</td>\n",
       "    </tr>\n",
       "    <tr>\n",
       "      <th>27816</th>\n",
       "      <td>Uzbekistan</td>\n",
       "      <td>2014</td>\n",
       "      <td>female</td>\n",
       "      <td>75+ years</td>\n",
       "      <td>9</td>\n",
       "      <td>348465</td>\n",
       "      <td>2.58</td>\n",
       "      <td>Uzbekistan2014</td>\n",
       "      <td>0.675</td>\n",
       "      <td>63,067,077,179</td>\n",
       "      <td>2309</td>\n",
       "      <td>Silent</td>\n",
       "    </tr>\n",
       "    <tr>\n",
       "      <th>27817</th>\n",
       "      <td>Uzbekistan</td>\n",
       "      <td>2014</td>\n",
       "      <td>male</td>\n",
       "      <td>5-14 years</td>\n",
       "      <td>60</td>\n",
       "      <td>2762158</td>\n",
       "      <td>2.17</td>\n",
       "      <td>Uzbekistan2014</td>\n",
       "      <td>0.675</td>\n",
       "      <td>63,067,077,179</td>\n",
       "      <td>2309</td>\n",
       "      <td>Generation Z</td>\n",
       "    </tr>\n",
       "    <tr>\n",
       "      <th>27818</th>\n",
       "      <td>Uzbekistan</td>\n",
       "      <td>2014</td>\n",
       "      <td>female</td>\n",
       "      <td>5-14 years</td>\n",
       "      <td>44</td>\n",
       "      <td>2631600</td>\n",
       "      <td>1.67</td>\n",
       "      <td>Uzbekistan2014</td>\n",
       "      <td>0.675</td>\n",
       "      <td>63,067,077,179</td>\n",
       "      <td>2309</td>\n",
       "      <td>Generation Z</td>\n",
       "    </tr>\n",
       "    <tr>\n",
       "      <th>27819</th>\n",
       "      <td>Uzbekistan</td>\n",
       "      <td>2014</td>\n",
       "      <td>female</td>\n",
       "      <td>55-74 years</td>\n",
       "      <td>21</td>\n",
       "      <td>1438935</td>\n",
       "      <td>1.46</td>\n",
       "      <td>Uzbekistan2014</td>\n",
       "      <td>0.675</td>\n",
       "      <td>63,067,077,179</td>\n",
       "      <td>2309</td>\n",
       "      <td>Boomers</td>\n",
       "    </tr>\n",
       "  </tbody>\n",
       "</table>\n",
       "<p>27820 rows × 12 columns</p>\n",
       "</div>"
      ],
      "text/plain": [
       "          country  year     sex          age  suicides_no  population  \\\n",
       "0         Albania  1987    male  15-24 years           21      312900   \n",
       "1         Albania  1987    male  35-54 years           16      308000   \n",
       "2         Albania  1987  female  15-24 years           14      289700   \n",
       "3         Albania  1987    male    75+ years            1       21800   \n",
       "4         Albania  1987    male  25-34 years            9      274300   \n",
       "...           ...   ...     ...          ...          ...         ...   \n",
       "27815  Uzbekistan  2014  female  35-54 years          107     3620833   \n",
       "27816  Uzbekistan  2014  female    75+ years            9      348465   \n",
       "27817  Uzbekistan  2014    male   5-14 years           60     2762158   \n",
       "27818  Uzbekistan  2014  female   5-14 years           44     2631600   \n",
       "27819  Uzbekistan  2014  female  55-74 years           21     1438935   \n",
       "\n",
       "       suicides/100k pop    country-year  HDI for year  gdp_for_year ($)   \\\n",
       "0                   6.71     Albania1987           NaN      2,156,624,900   \n",
       "1                   5.19     Albania1987           NaN      2,156,624,900   \n",
       "2                   4.83     Albania1987           NaN      2,156,624,900   \n",
       "3                   4.59     Albania1987           NaN      2,156,624,900   \n",
       "4                   3.28     Albania1987           NaN      2,156,624,900   \n",
       "...                  ...             ...           ...                ...   \n",
       "27815               2.96  Uzbekistan2014         0.675     63,067,077,179   \n",
       "27816               2.58  Uzbekistan2014         0.675     63,067,077,179   \n",
       "27817               2.17  Uzbekistan2014         0.675     63,067,077,179   \n",
       "27818               1.67  Uzbekistan2014         0.675     63,067,077,179   \n",
       "27819               1.46  Uzbekistan2014         0.675     63,067,077,179   \n",
       "\n",
       "       gdp_per_capita ($)       generation  \n",
       "0                     796     Generation X  \n",
       "1                     796           Silent  \n",
       "2                     796     Generation X  \n",
       "3                     796  G.I. Generation  \n",
       "4                     796          Boomers  \n",
       "...                   ...              ...  \n",
       "27815                2309     Generation X  \n",
       "27816                2309           Silent  \n",
       "27817                2309     Generation Z  \n",
       "27818                2309     Generation Z  \n",
       "27819                2309          Boomers  \n",
       "\n",
       "[27820 rows x 12 columns]"
      ]
     },
     "execution_count": 3,
     "metadata": {},
     "output_type": "execute_result"
    }
   ],
   "source": [
    "data"
   ]
  },
  {
   "cell_type": "code",
   "execution_count": 4,
   "metadata": {},
   "outputs": [],
   "source": [
    "data = data.drop_duplicates()"
   ]
  },
  {
   "cell_type": "code",
   "execution_count": 5,
   "metadata": {},
   "outputs": [],
   "source": [
    "for col in ['sex', 'age', 'generation']:\n",
    "    data[col] = pd.Categorical(data[col]).codes.astype(int)"
   ]
  },
  {
   "cell_type": "code",
   "execution_count": 6,
   "metadata": {
    "scrolled": true
   },
   "outputs": [
    {
     "name": "stdout",
     "output_type": "stream",
     "text": [
      "<class 'pandas.core.frame.DataFrame'>\n",
      "Int64Index: 27820 entries, 0 to 27819\n",
      "Data columns (total 12 columns):\n",
      " #   Column              Non-Null Count  Dtype  \n",
      "---  ------              --------------  -----  \n",
      " 0   country             27820 non-null  object \n",
      " 1   year                27820 non-null  int64  \n",
      " 2   sex                 27820 non-null  int32  \n",
      " 3   age                 27820 non-null  int32  \n",
      " 4   suicides_no         27820 non-null  int64  \n",
      " 5   population          27820 non-null  int64  \n",
      " 6   suicides/100k pop   27820 non-null  float64\n",
      " 7   country-year        27820 non-null  object \n",
      " 8   HDI for year        8364 non-null   float64\n",
      " 9    gdp_for_year ($)   27820 non-null  object \n",
      " 10  gdp_per_capita ($)  27820 non-null  int64  \n",
      " 11  generation          27820 non-null  int32  \n",
      "dtypes: float64(2), int32(3), int64(4), object(3)\n",
      "memory usage: 2.4+ MB\n"
     ]
    }
   ],
   "source": [
    "data.info()"
   ]
  },
  {
   "cell_type": "code",
   "execution_count": 7,
   "metadata": {},
   "outputs": [
    {
     "name": "stdout",
     "output_type": "stream",
     "text": [
      "Número de países diferentes: 101\n",
      "Número de generaciones diferentes: 6\n",
      "Número de años diferentes: 32\n"
     ]
    }
   ],
   "source": [
    "print(\"Número de países diferentes:\",len(data.country.unique()))\n",
    "print(\"Número de generaciones diferentes:\",len(data.generation.unique()))\n",
    "print(\"Número de años diferentes:\",len(data.year.unique()))"
   ]
  },
  {
   "cell_type": "code",
   "execution_count": 8,
   "metadata": {},
   "outputs": [
    {
     "data": {
      "image/png": "[encoded data removed]",
      "text/plain": [
       "<Figure size 576x396 with 9 Axes>"
      ]
     },
     "metadata": {},
     "output_type": "display_data"
    }
   ],
   "source": [
    "data.hist()\n",
    "plt.show()"
   ]
  },
  {
   "cell_type": "markdown",
   "metadata": {},
   "source": [
    "# Análisis del dataset"
   ]
  },
  {
   "cell_type": "markdown",
   "metadata": {},
   "source": [
    "#### Utilizamos la función describe para tener una primera interpretación general de los datos. Aún no sabemos cuáles serán los datos más significativos del dataset, a parte de los obvios, número de suicidios y número de suicidios por cada 100k habitantes.\n",
    "#### La hipótesis que propusimos para este proyecto consistía en la refutación de la afirmación de que aquellos países con un PIB alto también tenían una tasa de suicidios alta. Esta hipótesis es un poco vaga, y hemos decidido ampliar la búsqueda, queremos encontrar cuales son las causas de que en un país haya más suicidios que en otros, o al menos descartar cuales no son causas comunes.\n",
    "#### Creemos que los países son una frontera perfecta, cada país tiene unas características propias de diferentes formas de vida de una población, debido a los diferentes índices de desarrollo personal, el PIB, el número de habitantes... estos atributos definen de en parte la forma de vida en un país. En este datase encontramos 101 países, los cuales la mayoría son europeos y americanos.\n",
    "#### Vamos a hacer una breve descripción de los datos:\n",
    "\n",
    "-  \tPoblación: en primer lugar, encontramos que la población varía mucho entre unos países y otros, vemos que el país con menos habitantes es kiribati con menos de 4000 habitantes, por otro lado, EEUU con más de 260 millones de habitantes.\n",
    "-   Country: país\n",
    "-\tYear: periodo de años, abarca de 1985 a 2015\n",
    "-\tcountry-year: esta columna se compone de el nombre del país y el año, pero\n",
    "-\tSexo: hombre o mujer\n",
    "-\tgdp_for_year: es el PIB de un país de un año.\n",
    "-\tGDP_per_capita: PIB dividido por la población estimada para mediados del mismo año.\n",
    "-\tHDI for year: es el Índice de desarrollo humano por año.\n",
    "-\tGeneration: encontramos las siguientes generaciones:\n",
    "\t  - G.I. Generation\n",
    "\t  - Silent\n",
    "\t  - Boomers\n",
    "\t  - Generación X\n",
    "\t  - Millenials\n",
    "      - Generación Z\n",
    "-\tAge: dividimos las edades en cuatro grupos:\n",
    "\t  - 5-14\n",
    "\t  - 15-24\n",
    "\t  - 25-34\n",
    "\t  - 35-54\n",
    "\t  - 55-74\n",
    "      - 75+\n",
    "-\tsuicides_no: número de suicidios.\n",
    "-\tsuicides/100k pop: número de suicidios por cada 100.000 habitantes.\n",
    "\n",
    "- suicides/100k pop: número de suicidios por cada 100.000 habitantes."
   ]
  },
  {
   "cell_type": "code",
   "execution_count": 9,
   "metadata": {},
   "outputs": [
    {
     "data": {
      "text/html": [
       "<div>\n",
       "<style scoped>\n",
       "    .dataframe tbody tr th:only-of-type {\n",
       "        vertical-align: middle;\n",
       "    }\n",
       "\n",
       "    .dataframe tbody tr th {\n",
       "        vertical-align: top;\n",
       "    }\n",
       "\n",
       "    .dataframe thead th {\n",
       "        text-align: right;\n",
       "    }\n",
       "</style>\n",
       "<table border=\"1\" class=\"dataframe\">\n",
       "  <thead>\n",
       "    <tr style=\"text-align: right;\">\n",
       "      <th></th>\n",
       "      <th>year</th>\n",
       "      <th>sex</th>\n",
       "      <th>age</th>\n",
       "      <th>suicides_no</th>\n",
       "      <th>population</th>\n",
       "      <th>suicides/100k pop</th>\n",
       "      <th>HDI for year</th>\n",
       "      <th>gdp_per_capita ($)</th>\n",
       "      <th>generation</th>\n",
       "    </tr>\n",
       "  </thead>\n",
       "  <tbody>\n",
       "    <tr>\n",
       "      <th>count</th>\n",
       "      <td>27820.000000</td>\n",
       "      <td>27820.000000</td>\n",
       "      <td>27820.000000</td>\n",
       "      <td>27820.000000</td>\n",
       "      <td>2.782000e+04</td>\n",
       "      <td>27820.000000</td>\n",
       "      <td>8364.000000</td>\n",
       "      <td>27820.000000</td>\n",
       "      <td>27820.000000</td>\n",
       "    </tr>\n",
       "    <tr>\n",
       "      <th>mean</th>\n",
       "      <td>2001.258375</td>\n",
       "      <td>0.500000</td>\n",
       "      <td>2.499425</td>\n",
       "      <td>242.574407</td>\n",
       "      <td>1.844794e+06</td>\n",
       "      <td>12.816097</td>\n",
       "      <td>0.776601</td>\n",
       "      <td>16866.464414</td>\n",
       "      <td>2.701869</td>\n",
       "    </tr>\n",
       "    <tr>\n",
       "      <th>std</th>\n",
       "      <td>8.469055</td>\n",
       "      <td>0.500009</td>\n",
       "      <td>1.708754</td>\n",
       "      <td>902.047917</td>\n",
       "      <td>3.911779e+06</td>\n",
       "      <td>18.961511</td>\n",
       "      <td>0.093367</td>\n",
       "      <td>18887.576472</td>\n",
       "      <td>1.809836</td>\n",
       "    </tr>\n",
       "    <tr>\n",
       "      <th>min</th>\n",
       "      <td>1985.000000</td>\n",
       "      <td>0.000000</td>\n",
       "      <td>0.000000</td>\n",
       "      <td>0.000000</td>\n",
       "      <td>2.780000e+02</td>\n",
       "      <td>0.000000</td>\n",
       "      <td>0.483000</td>\n",
       "      <td>251.000000</td>\n",
       "      <td>0.000000</td>\n",
       "    </tr>\n",
       "    <tr>\n",
       "      <th>25%</th>\n",
       "      <td>1995.000000</td>\n",
       "      <td>0.000000</td>\n",
       "      <td>1.000000</td>\n",
       "      <td>3.000000</td>\n",
       "      <td>9.749850e+04</td>\n",
       "      <td>0.920000</td>\n",
       "      <td>0.713000</td>\n",
       "      <td>3447.000000</td>\n",
       "      <td>1.000000</td>\n",
       "    </tr>\n",
       "    <tr>\n",
       "      <th>50%</th>\n",
       "      <td>2002.000000</td>\n",
       "      <td>0.500000</td>\n",
       "      <td>2.000000</td>\n",
       "      <td>25.000000</td>\n",
       "      <td>4.301500e+05</td>\n",
       "      <td>5.990000</td>\n",
       "      <td>0.779000</td>\n",
       "      <td>9372.000000</td>\n",
       "      <td>2.000000</td>\n",
       "    </tr>\n",
       "    <tr>\n",
       "      <th>75%</th>\n",
       "      <td>2008.000000</td>\n",
       "      <td>1.000000</td>\n",
       "      <td>4.000000</td>\n",
       "      <td>131.000000</td>\n",
       "      <td>1.486143e+06</td>\n",
       "      <td>16.620000</td>\n",
       "      <td>0.855000</td>\n",
       "      <td>24874.000000</td>\n",
       "      <td>4.000000</td>\n",
       "    </tr>\n",
       "    <tr>\n",
       "      <th>max</th>\n",
       "      <td>2016.000000</td>\n",
       "      <td>1.000000</td>\n",
       "      <td>5.000000</td>\n",
       "      <td>22338.000000</td>\n",
       "      <td>4.380521e+07</td>\n",
       "      <td>224.970000</td>\n",
       "      <td>0.944000</td>\n",
       "      <td>126352.000000</td>\n",
       "      <td>5.000000</td>\n",
       "    </tr>\n",
       "  </tbody>\n",
       "</table>\n",
       "</div>"
      ],
      "text/plain": [
       "               year           sex           age   suicides_no    population  \\\n",
       "count  27820.000000  27820.000000  27820.000000  27820.000000  2.782000e+04   \n",
       "mean    2001.258375      0.500000      2.499425    242.574407  1.844794e+06   \n",
       "std        8.469055      0.500009      1.708754    902.047917  3.911779e+06   \n",
       "min     1985.000000      0.000000      0.000000      0.000000  2.780000e+02   \n",
       "25%     1995.000000      0.000000      1.000000      3.000000  9.749850e+04   \n",
       "50%     2002.000000      0.500000      2.000000     25.000000  4.301500e+05   \n",
       "75%     2008.000000      1.000000      4.000000    131.000000  1.486143e+06   \n",
       "max     2016.000000      1.000000      5.000000  22338.000000  4.380521e+07   \n",
       "\n",
       "       suicides/100k pop  HDI for year  gdp_per_capita ($)    generation  \n",
       "count       27820.000000   8364.000000        27820.000000  27820.000000  \n",
       "mean           12.816097      0.776601        16866.464414      2.701869  \n",
       "std            18.961511      0.093367        18887.576472      1.809836  \n",
       "min             0.000000      0.483000          251.000000      0.000000  \n",
       "25%             0.920000      0.713000         3447.000000      1.000000  \n",
       "50%             5.990000      0.779000         9372.000000      2.000000  \n",
       "75%            16.620000      0.855000        24874.000000      4.000000  \n",
       "max           224.970000      0.944000       126352.000000      5.000000  "
      ]
     },
     "execution_count": 9,
     "metadata": {},
     "output_type": "execute_result"
    }
   ],
   "source": [
    "data.describe()"
   ]
  },
  {
   "cell_type": "markdown",
   "metadata": {},
   "source": [
    "#### Hemos considerado que sería una buena práctica hacer un análisis de los datos antes de emplear alguno de los algoritmos que hemos aprendido en la asignatura."
   ]
  },
  {
   "cell_type": "code",
   "execution_count": 10,
   "metadata": {},
   "outputs": [
    {
     "data": {
      "text/plain": [
       "224.97"
      ]
     },
     "execution_count": 10,
     "metadata": {},
     "output_type": "execute_result"
    }
   ],
   "source": [
    "data['suicides/100k pop'].max()"
   ]
  },
  {
   "cell_type": "markdown",
   "metadata": {},
   "source": [
    "##### En primer lugar, vamos a averiguar cuáles son los países con mayor media de índice de suicidios cada 100k de personas. Queremos ver si existe algún patrón en lo países dependiendo de este índice. Podrían darse más suicidios dependiendo del clima, o del tipo de sociedad o gobierno, que son datos que no forman parte del dataset."
   ]
  },
  {
   "cell_type": "code",
   "execution_count": 11,
   "metadata": {},
   "outputs": [],
   "source": [
    "dfMediaSuicidosPorPaises = data.groupby('country')['suicides/100k pop'].mean()"
   ]
  },
  {
   "cell_type": "markdown",
   "metadata": {},
   "source": [
    "## Estudio Países con mayor índice de suicidio\n",
    "##### Aquí podemos ver un gráfico de barras con los 20 países con mayor media de suicidios por cada 100k. Observamos que esta lista es sorprendentemente parecida a los datos que ofrece la OMS, estos datos utilizan fuentes también parecidas a nuestro dataset, los años abarcan de 1985 a 2018.\n",
    "##### Vemos que muchos de estos países formaron parte de la URSS o al menos debieron adoptar políticas impuestas por la Unión Soviética, lamentablemente al comenzar nuestro dataset en 1985 no podemos asegurar que tenga que ver, ya que no sabemos si los años predecesores tienen índices menores o mayores, o si empeoró debido al gran colapso económico en 1980.\n",
    "##### Otro grupo que podemos reconocer son los países asiáticos como República de Corea, Japón, o Sri Lanka. Estos países, al igual que los primeros, coinciden en que todos tienen un modelo social muy rígido y jerarquizado, donde hay no cabida a las decisiones individuales. Son modelos de vida patriarcales donde se impone al individuo las decisiones del padre de familia.\n",
    "##### Por otro lado, también encontramos otro grupo de países que no sabemos muy bien el porqué de ese índice tan alto de suicidios, entre los que se encuentran Francia y Bélgica."
   ]
  },
  {
   "cell_type": "code",
   "execution_count": 12,
   "metadata": {},
   "outputs": [
    {
     "data": {
      "text/plain": [
       "<AxesSubplot:xlabel='country'>"
      ]
     },
     "execution_count": 12,
     "metadata": {},
     "output_type": "execute_result"
    },
    {
     "data": {
      "image/png": "[encoded data removed]",
      "text/plain": [
       "<Figure size 1080x576 with 1 Axes>"
      ]
     },
     "metadata": {},
     "output_type": "display_data"
    }
   ],
   "source": [
    "dfMediaSuicidosPorPaises.nlargest(20).plot.bar(figsize=(15,8))"
   ]
  },
  {
   "cell_type": "markdown",
   "metadata": {},
   "source": [
    "##### Vamos a estudiar más a fondo estos países, empezando por Lituania. Observamos que los datos comienzan en 1995 y como veremos más adelante, en otra parte de nuestro estudio, el índice de suicidio desciende conforme van pasando los años. "
   ]
  },
  {
   "cell_type": "code",
   "execution_count": 13,
   "metadata": {},
   "outputs": [
    {
     "data": {
      "text/plain": [
       "<AxesSubplot:xlabel='year'>"
      ]
     },
     "execution_count": 13,
     "metadata": {},
     "output_type": "execute_result"
    },
    {
     "data": {
      "image/png": "[encoded data removed]",
      "text/plain": [
       "<Figure size 1080x576 with 1 Axes>"
      ]
     },
     "metadata": {},
     "output_type": "display_data"
    }
   ],
   "source": [
    "Lithuania_Study = data.loc[data['country'] == 'Lithuania'];\n",
    "Lithuania_Study = Lithuania_Study.groupby('year')['suicides/100k pop'].mean()\n",
    "\n",
    "Lithuania_Study.plot.bar(figsize=(15,8))"
   ]
  },
  {
   "cell_type": "markdown",
   "metadata": {},
   "source": [
    "#### De Rusia tenemos datos desde algo anteriores a los de Lituania, desde 1989, dos años antes de la dilución de la Unión Soviética. A partir de 1991 hay un fuerte crecimiento en el número de suicidios, debido a la crisis política y económica. Después, esta tasa va descendiendo según se van estabilizando la política y la economía como veremos en el siguiente gráfico."
   ]
  },
  {
   "cell_type": "code",
   "execution_count": 14,
   "metadata": {},
   "outputs": [
    {
     "data": {
      "text/plain": [
       "<AxesSubplot:xlabel='year'>"
      ]
     },
     "execution_count": 14,
     "metadata": {},
     "output_type": "execute_result"
    },
    {
     "data": {
      "image/png": "[encoded data removed]",
      "text/plain": [
       "<Figure size 1080x576 with 1 Axes>"
      ]
     },
     "metadata": {},
     "output_type": "display_data"
    }
   ],
   "source": [
    "Russian_Federation = data.loc[data['country'] == 'Russian Federation'];\n",
    "Russian_Federation = Russian_Federation.groupby('year')['suicides/100k pop'].mean()\n",
    "\n",
    "Russian_Federation.plot.bar(figsize=(15,8))"
   ]
  },
  {
   "cell_type": "markdown",
   "metadata": {},
   "source": [
    "##### El PIB per cápita asciende a un ritmo alto a partir de 2001, coincidiendo con la bajada del índice de suicidio, aunque esta no desciende a un ritmo tan alto. Puede existir una relación, pero hemos llegado a la conclusión de que el PIB per cápita o el PIB, no es un reflejo demasiado fiel a la hora de ver la forma de vida de un país, ya que, aunque un país genere mucha riqueza el PIB per cápita solo es una división de la riqueza entre la población. Por lo tanto, como ya sabemos, la mayor parte de la riqueza es poseída por unos pocos, mientras que las condiciones de la mayoría varían levemente.\n",
    "##### En conclusión, en el análisis de Rusia, el PIB puede ser importante, pero no tan decisivo como en un primer momento sospechábamos. No hemos podido estudiar el HDI porque no hay datos de Rusia."
   ]
  },
  {
   "cell_type": "code",
   "execution_count": 15,
   "metadata": {},
   "outputs": [
    {
     "data": {
      "text/plain": [
       "<AxesSubplot:xlabel='year'>"
      ]
     },
     "execution_count": 15,
     "metadata": {},
     "output_type": "execute_result"
    },
    {
     "data": {
      "image/png": "[encoded data removed]",
      "text/plain": [
       "<Figure size 1080x576 with 1 Axes>"
      ]
     },
     "metadata": {},
     "output_type": "display_data"
    }
   ],
   "source": [
    "Russian_Federation = data.loc[data['country'] == 'Russian Federation']\n",
    "Russian_Federation = Russian_Federation.rename(columns={' gdp_for_year ($) ': 'gdp_for_year', 'gdp_per_capita ($)': 'gdp_per_capita'})\n",
    "Russian_Federation = Russian_Federation.groupby('year')['gdp_per_capita'].mean()\n",
    "Russian_Federation.plot.bar(figsize=(15,8))"
   ]
  },
  {
   "cell_type": "markdown",
   "metadata": {},
   "source": [
    "## Estudio de países con menor índice de suicidio\n",
    "#### Ahora, continuamos con el análisis de los países con menor tasa de suicidios. Vemos que existe un grupo de países caribeños como Jamaica, Antigua y Barbuda, San Cristóbal y Nieves... estos países suelen tener un PIB bajo y una densidad de población moderada acercándonos a alta y un HDI bajo.\n",
    "#### Hay otro grupo de países árabes muy ricos que también se encuentran en esta clasificación. Entre ellos Emiratos Árabes o Catar, con un PIB no demasiado alto, pero con un PIB per cápita altísimo."
   ]
  },
  {
   "cell_type": "code",
   "execution_count": 16,
   "metadata": {},
   "outputs": [
    {
     "data": {
      "text/plain": [
       "<AxesSubplot:xlabel='country'>"
      ]
     },
     "execution_count": 16,
     "metadata": {},
     "output_type": "execute_result"
    },
    {
     "data": {
      "image/png": "[encoded data removed]",
      "text/plain": [
       "<Figure size 1080x576 with 1 Axes>"
      ]
     },
     "metadata": {},
     "output_type": "display_data"
    }
   ],
   "source": [
    "dfMediaSuicidosPorPaises.nsmallest(20).plot.bar(figsize=(15,8))"
   ]
  },
  {
   "cell_type": "markdown",
   "metadata": {},
   "source": [
    "#### El PIB en Jamaica a aumentado, al igual que el de la mayoría de estos países, su situación económica se ha mantenido más o menos estable, así como el número de suicidios."
   ]
  },
  {
   "cell_type": "code",
   "execution_count": 17,
   "metadata": {},
   "outputs": [
    {
     "data": {
      "text/plain": [
       "<AxesSubplot:xlabel='year'>"
      ]
     },
     "execution_count": 17,
     "metadata": {},
     "output_type": "execute_result"
    },
    {
     "data": {
      "image/png": "[encoded data removed]",
      "text/plain": [
       "<Figure size 1080x576 with 1 Axes>"
      ]
     },
     "metadata": {},
     "output_type": "display_data"
    }
   ],
   "source": [
    "Jamaica = data.loc[data['country'] == 'Jamaica']\n",
    "Jamaica = Jamaica.rename(columns={' gdp_for_year ($) ': 'gdp_for_year', 'gdp_per_capita ($)': 'gdp_per_capita'})\n",
    "Jamaica = Jamaica.groupby('year')['gdp_per_capita'].mean()\n",
    "Jamaica.plot.bar(figsize=(15,8))"
   ]
  },
  {
   "cell_type": "markdown",
   "metadata": {},
   "source": [
    "#### El análisis por género lo abordaremos más detalladamente más adelante."
   ]
  },
  {
   "cell_type": "code",
   "execution_count": 18,
   "metadata": {},
   "outputs": [
    {
     "data": {
      "text/html": [
       "<div>\n",
       "<style scoped>\n",
       "    .dataframe tbody tr th:only-of-type {\n",
       "        vertical-align: middle;\n",
       "    }\n",
       "\n",
       "    .dataframe tbody tr th {\n",
       "        vertical-align: top;\n",
       "    }\n",
       "\n",
       "    .dataframe thead th {\n",
       "        text-align: right;\n",
       "    }\n",
       "</style>\n",
       "<table border=\"1\" class=\"dataframe\">\n",
       "  <thead>\n",
       "    <tr style=\"text-align: right;\">\n",
       "      <th></th>\n",
       "      <th>country</th>\n",
       "      <th>year</th>\n",
       "      <th>age</th>\n",
       "      <th>suicides_no</th>\n",
       "      <th>population</th>\n",
       "      <th>suicides/100k pop</th>\n",
       "      <th>country-year</th>\n",
       "      <th>HDI for year</th>\n",
       "      <th>gdp_for_year ($)</th>\n",
       "      <th>gdp_per_capita ($)</th>\n",
       "      <th>generation</th>\n",
       "    </tr>\n",
       "    <tr>\n",
       "      <th>sex</th>\n",
       "      <th></th>\n",
       "      <th></th>\n",
       "      <th></th>\n",
       "      <th></th>\n",
       "      <th></th>\n",
       "      <th></th>\n",
       "      <th></th>\n",
       "      <th></th>\n",
       "      <th></th>\n",
       "      <th></th>\n",
       "      <th></th>\n",
       "    </tr>\n",
       "  </thead>\n",
       "  <tbody>\n",
       "    <tr>\n",
       "      <th>0</th>\n",
       "      <td>Uzbekistan</td>\n",
       "      <td>2016</td>\n",
       "      <td>5</td>\n",
       "      <td>4053</td>\n",
       "      <td>43805214</td>\n",
       "      <td>133.42</td>\n",
       "      <td>Uzbekistan2014</td>\n",
       "      <td>0.944</td>\n",
       "      <td>997,007,926</td>\n",
       "      <td>126352</td>\n",
       "      <td>5</td>\n",
       "    </tr>\n",
       "    <tr>\n",
       "      <th>1</th>\n",
       "      <td>Uzbekistan</td>\n",
       "      <td>2016</td>\n",
       "      <td>5</td>\n",
       "      <td>22338</td>\n",
       "      <td>43139910</td>\n",
       "      <td>224.97</td>\n",
       "      <td>Uzbekistan2014</td>\n",
       "      <td>0.944</td>\n",
       "      <td>997,007,926</td>\n",
       "      <td>126352</td>\n",
       "      <td>5</td>\n",
       "    </tr>\n",
       "  </tbody>\n",
       "</table>\n",
       "</div>"
      ],
      "text/plain": [
       "        country  year  age  suicides_no  population  suicides/100k pop  \\\n",
       "sex                                                                      \n",
       "0    Uzbekistan  2016    5         4053    43805214             133.42   \n",
       "1    Uzbekistan  2016    5        22338    43139910             224.97   \n",
       "\n",
       "       country-year  HDI for year  gdp_for_year ($)   gdp_per_capita ($)  \\\n",
       "sex                                                                        \n",
       "0    Uzbekistan2014         0.944        997,007,926              126352   \n",
       "1    Uzbekistan2014         0.944        997,007,926              126352   \n",
       "\n",
       "     generation  \n",
       "sex              \n",
       "0             5  \n",
       "1             5  "
      ]
     },
     "execution_count": 18,
     "metadata": {},
     "output_type": "execute_result"
    }
   ],
   "source": [
    "data.groupby('sex').max()"
   ]
  },
  {
   "cell_type": "markdown",
   "metadata": {},
   "source": [
    "### Análisis de grupos de edad\n",
    "#### Debemos aclarar que una cosa son las franjas de edad y otra son las generaciones, cada generación tiene o tendrá todos los grupos de edad. \n",
    "#### Aquí el resultado varía mucho dependiendo del punto de vista. Si nos preguntamos cual es la franja de edad con mayor número de suicidios, es la de 35 a 54, pero porque la población que pertenece a ese grupo es mucho mayor que la población que tiene más de 75 años.\n",
    "#### Porcentualmente, el grupo que más suicidios tiene en relación con el número de personas que lo forman es el de mayores de 75. \n",
    "#### Lo que nos hace preguntarnos, ¿las personas que lo cometen presentan estas tendencias toda su vida? o se debe a las circunstancias."
   ]
  },
  {
   "cell_type": "code",
   "execution_count": 19,
   "metadata": {},
   "outputs": [
    {
     "data": {
      "text/plain": [
       "<AxesSubplot:xlabel='age'>"
      ]
     },
     "execution_count": 19,
     "metadata": {},
     "output_type": "execute_result"
    },
    {
     "data": {
      "image/png": "[encoded data removed]",
      "text/plain": [
       "<Figure size 1080x576 with 1 Axes>"
      ]
     },
     "metadata": {},
     "output_type": "display_data"
    }
   ],
   "source": [
    "data_age = data.groupby('age')['suicides_no'].mean()\n",
    "data_age.nsmallest(6).plot.bar(figsize=(15,8))"
   ]
  },
  {
   "cell_type": "code",
   "execution_count": 20,
   "metadata": {},
   "outputs": [
    {
     "data": {
      "text/plain": [
       "<AxesSubplot:xlabel='age'>"
      ]
     },
     "execution_count": 20,
     "metadata": {},
     "output_type": "execute_result"
    },
    {
     "data": {
      "image/png": "[encoded data removed]",
      "text/plain": [
       "<Figure size 1080x576 with 1 Axes>"
      ]
     },
     "metadata": {},
     "output_type": "display_data"
    }
   ],
   "source": [
    "data_age = data.groupby('age')['suicides/100k pop'].mean()\n",
    "data_age.nsmallest(6).plot.bar(figsize=(15,8))"
   ]
  },
  {
   "cell_type": "markdown",
   "metadata": {},
   "source": [
    "### Análisis de grupos de edad a lo largo de los años\n",
    "#### Encontramos que estos grupos en ningún momento se cortan entre ellos, mantienen tendencias muy parecidas, cuando uno crece el otro también lo hace y viceversa. Lo que nos indica que aproximadamente a todos afecta por igual las circunstancias. También podemos ver que existe una tendencia a disminuir hacia abajo."
   ]
  },
  {
   "cell_type": "code",
   "execution_count": 21,
   "metadata": {
    "scrolled": false
   },
   "outputs": [
    {
     "data": {
      "image/png": "[encoded data removed]",
      "text/plain": [
       "<Figure size 648x432 with 1 Axes>"
      ]
     },
     "metadata": {},
     "output_type": "display_data"
    }
   ],
   "source": [
    "Edad = data.groupby([\"year\",\"age\"])[\"suicides_no\", \"population\"].sum()\n",
    "Auxiliar = Edad.copy().reset_index()\n",
    "plt.figure(figsize=(9,6))\n",
    "sns.lineplot(\"year\", Auxiliar.suicides_no*100/Auxiliar.population, hue = \"age\",data = Auxiliar, linewidth = 2.5, style = \"age\", markers=True, dashes=False)\n",
    "plt.xticks(rotation = 90)\n",
    "plt.show()"
   ]
  },
  {
   "cell_type": "markdown",
   "metadata": {},
   "source": [
    "### Análisis de Generaciones\n",
    "#### En este análisis confirmamos que existe una tendencia a la baja de suicidios según van pasando los años. Pero es un análisis parcial, ya que aunque tenemos todos los datos de la generación G.I. y casi todos los de Silent, quedan tres generaciones que aún son muy jóvenes como para poder asegurar nada, especialmente los millenials y la generación Z."
   ]
  },
  {
   "cell_type": "code",
   "execution_count": 22,
   "metadata": {},
   "outputs": [
    {
     "data": {
      "text/plain": [
       "<AxesSubplot:xlabel='generation'>"
      ]
     },
     "execution_count": 22,
     "metadata": {},
     "output_type": "execute_result"
    },
    {
     "data": {
      "image/png": "[encoded data removed]",
      "text/plain": [
       "<Figure size 1080x576 with 1 Axes>"
      ]
     },
     "metadata": {},
     "output_type": "display_data"
    }
   ],
   "source": [
    "data_generation = data.groupby('generation')['suicides/100k pop'].mean()\n",
    "data_generation.nsmallest(6).plot.bar(figsize=(15,8))"
   ]
  },
  {
   "cell_type": "markdown",
   "metadata": {},
   "source": [
    "#### Volvemos a ver lo mismo, según van pasando los años en cada generación el número de suicidios aumenta, porque como hemos visto, el número de individuos aumenta desde los 15 hasta los 54 y después vuelve a descender."
   ]
  },
  {
   "cell_type": "code",
   "execution_count": 23,
   "metadata": {},
   "outputs": [
    {
     "data": {
      "image/png": "[encoded data removed]",
      "text/plain": [
       "<Figure size 648x432 with 1 Axes>"
      ]
     },
     "metadata": {},
     "output_type": "display_data"
    }
   ],
   "source": [
    "Generacion = data.groupby([\"year\",\"generation\"])[\"suicides_no\", \"population\"].sum()\n",
    "Auxiliar = Generacion.copy().reset_index()\n",
    "plt.figure(figsize=(9,6))\n",
    "sns.lineplot(\"year\", Auxiliar.suicides_no*100/Auxiliar.population, hue = \"generation\",data = Auxiliar, linewidth = 2.5, style = \"generation\", markers=True, dashes=False)\n",
    "plt.xticks(rotation = 90)\n",
    "plt.show()"
   ]
  },
  {
   "cell_type": "markdown",
   "metadata": {},
   "source": [
    "### Experimento 1: ¿Coinciden las épocas de crisis con una mayor tasa de suicidios?\n",
    "#### Para eso buscamos los años donde se han cometido más suicidios. pensábamos que en épocas de crisis políticas o económicas serían las más propensas a que se cometiesen este tipo de actos. \n",
    "#### En la siguiente gráfica hemos ordenado los países y los años con mayor número de individuos muertos por cada 100.000 habitantes.\n",
    "#### Vemos que Hungría en la década de los 90 aparece repetida varias veces, creemos que puede tener que ver el cambio de paradigma político, de nuevo observamos una transición de un modelo comunista tipo soviético a un modelo de democracia occidental, a pesar de haber sido una transición relativamente discreta, la implantación de un nuevo sistema económico y político es algo muy complicado, lo que pudo ser una de las causas del aumento de la tasa."
   ]
  },
  {
   "cell_type": "code",
   "execution_count": 24,
   "metadata": {},
   "outputs": [
    {
     "data": {
      "text/plain": [
       "<AxesSubplot:xlabel='country-year'>"
      ]
     },
     "execution_count": 24,
     "metadata": {},
     "output_type": "execute_result"
    },
    {
     "data": {
      "image/png": "[encoded data removed]",
      "text/plain": [
       "<Figure size 1080x576 with 1 Axes>"
      ]
     },
     "metadata": {},
     "output_type": "display_data"
    }
   ],
   "source": [
    "df_age = data.groupby([\"country\", \"year\"])[\"suicides/100k pop\", \"country-year\"].max()\n",
    "\n",
    "\n",
    "aux = pd.DataFrame(df_age)\n",
    "aux.nlargest(15, \"suicides/100k pop\").plot.bar(figsize=(15,8),x=\"country-year\", y='suicides/100k pop')"
   ]
  },
  {
   "cell_type": "markdown",
   "metadata": {},
   "source": [
    "### Experimento 2: estudios de PIB per cápita y número de suicidios\n",
    "\n",
    "#### Tratamos de ver si existe una relación directa entre el PIB per cápita y la tasa de suicidios, lo estudiaremos de dos formas diferentes, buscaremos si existe algún patrón en las gráficas y por supuesto también realizaremos una matriz de correlación. \n",
    "#### En el primer paso, creamos una gráfica de barras cuya ‘x’ está formada por los valores del PIB per cápita de menor a mayor y cuya ‘y’ por los valores de número de suicidios por cada 100.000 habitantes de dicho país. Pronto nos damos cuenta de que no hay ningún patrón, como ya habíamos adelantado antes."
   ]
  },
  {
   "cell_type": "code",
   "execution_count": 25,
   "metadata": {
    "scrolled": true
   },
   "outputs": [
    {
     "data": {
      "text/plain": [
       "<AxesSubplot:xlabel='gdp_per_capita ($)'>"
      ]
     },
     "execution_count": 25,
     "metadata": {},
     "output_type": "execute_result"
    },
    {
     "data": {
      "image/png": "[encoded data removed]",
      "text/plain": [
       "<Figure size 1080x576 with 1 Axes>"
      ]
     },
     "metadata": {},
     "output_type": "display_data"
    }
   ],
   "source": [
    "data_gdp_capita = data.groupby('country')['gdp_per_capita ($)', 'suicides/100k pop'].mean()\n",
    "data_gdp_capita.nsmallest(100, 'gdp_per_capita ($)').plot.bar(x='gdp_per_capita ($)', y='suicides/100k pop',figsize=(15,8))"
   ]
  },
  {
   "cell_type": "markdown",
   "metadata": {},
   "source": [
    "#### En este segundo paso hemos medido la correlación entre estos dos valores y confirmamos que no tiene mucho que ver."
   ]
  },
  {
   "cell_type": "code",
   "execution_count": 26,
   "metadata": {},
   "outputs": [
    {
     "data": {
      "text/html": [
       "<div>\n",
       "<style scoped>\n",
       "    .dataframe tbody tr th:only-of-type {\n",
       "        vertical-align: middle;\n",
       "    }\n",
       "\n",
       "    .dataframe tbody tr th {\n",
       "        vertical-align: top;\n",
       "    }\n",
       "\n",
       "    .dataframe thead th {\n",
       "        text-align: right;\n",
       "    }\n",
       "</style>\n",
       "<table border=\"1\" class=\"dataframe\">\n",
       "  <thead>\n",
       "    <tr style=\"text-align: right;\">\n",
       "      <th></th>\n",
       "      <th>gdp_per_capita ($)</th>\n",
       "      <th>suicides/100k pop</th>\n",
       "    </tr>\n",
       "  </thead>\n",
       "  <tbody>\n",
       "    <tr>\n",
       "      <th>gdp_per_capita ($)</th>\n",
       "      <td>1.000000</td>\n",
       "      <td>0.038206</td>\n",
       "    </tr>\n",
       "    <tr>\n",
       "      <th>suicides/100k pop</th>\n",
       "      <td>0.038206</td>\n",
       "      <td>1.000000</td>\n",
       "    </tr>\n",
       "  </tbody>\n",
       "</table>\n",
       "</div>"
      ],
      "text/plain": [
       "                    gdp_per_capita ($)  suicides/100k pop\n",
       "gdp_per_capita ($)            1.000000           0.038206\n",
       "suicides/100k pop             0.038206           1.000000"
      ]
     },
     "execution_count": 26,
     "metadata": {},
     "output_type": "execute_result"
    }
   ],
   "source": [
    "data_gdp_capita.corr()"
   ]
  },
  {
   "cell_type": "markdown",
   "metadata": {},
   "source": [
    "#### Hemos pensado que una matriz de correlación nos ayudaría a continuar nuestro análisis con los algoritmos.\n",
    "#### La matriz nos muestra que no hay correlación en los datos de este dataset, lo que nos hace sospechar que el suicidio es algo que no se puede medir solo con los datos que tenemos. Hemos leído artículos acerca de esto, y el libro \"El suicidio\" de Durkheim, a pesar de tener más de 120 años y debemos tomar sus datos con relativo cuidado, apunta a que el suicidio tiene mucho que ver con causas extra sociales, herencia, estados psicopáticos... y en cuanto a cuestiones sociales, tienen mucho que ver causas que no podemos medir adecuadamente, como la religión, la política, o la educación, algunos de los países con mejor formación académica son también aquellos que más individuos se suicidan.\n",
    "#### Por último, como apunte, la población masificada parece afectar más al índice de natalidad a la tasa de suicidio."
   ]
  },
  {
   "cell_type": "code",
   "execution_count": 27,
   "metadata": {},
   "outputs": [
    {
     "data": {
      "image/png": "[encoded data removed]",
      "text/plain": [
       "<Figure size 720x720 with 2 Axes>"
      ]
     },
     "metadata": {},
     "output_type": "display_data"
    }
   ],
   "source": [
    "corr=data.corr()\n",
    "f,ax = plt.subplots(figsize=(10,10))\n",
    "\n",
    "ax = sns.heatmap(corr, \n",
    "    vmin=-1, vmax=1, center=0,\n",
    "    cmap=sns.diverging_palette(20, 220, n=200),\n",
    "    square=True\n",
    ")"
   ]
  },
  {
   "cell_type": "markdown",
   "metadata": {},
   "source": [
    "# Estudio de algortimos"
   ]
  },
  {
   "cell_type": "markdown",
   "metadata": {},
   "source": [
    "### Algoritmo a priori"
   ]
  },
  {
   "cell_type": "markdown",
   "metadata": {},
   "source": [
    "<font color = \"blue\">\n",
    "    <p>El motivo de la aplicación del algoritmo a priori consiste en encontrar un conjunto de itemset frecuentes con el fin de generar una reglas de asociación que nos ayuden a encontrar patrones según los datos que tenemos.</p>\n",
    "    <p>Para poder aplicar el algoritmo apriori hemos tenido que generar un dataset que hace referencia un itemset a cada uno de los individuos que se han suicidado.</p>\n",
    "    <p>De esta forma generamos un itemset mucho mayor con un total de 154300 valores, o lo que es lo mismo, 130000 datos más que con el dataset inicial. Para realizarlo, hemos necesitado la población del país y la tasa de suicidios, obeniendo una regla de tres en la que conseguimos aumentar los datos, tal y como se ha ocmentado anteriormente.</p>\n",
    "    <p>A si mismo, no se utilizarán todos los valores proporcionados del dataset, solo los más interesantes para el estudio: país en el que ocurre, año en el que ocurre, sexo del individuo y generacion a la que pertenece.</p>\n"
   ]
  },
  {
   "cell_type": "code",
   "execution_count": 28,
   "metadata": {},
   "outputs": [
    {
     "data": {
      "text/html": [
       "<div>\n",
       "<style scoped>\n",
       "    .dataframe tbody tr th:only-of-type {\n",
       "        vertical-align: middle;\n",
       "    }\n",
       "\n",
       "    .dataframe tbody tr th {\n",
       "        vertical-align: top;\n",
       "    }\n",
       "\n",
       "    .dataframe thead th {\n",
       "        text-align: right;\n",
       "    }\n",
       "</style>\n",
       "<table border=\"1\" class=\"dataframe\">\n",
       "  <thead>\n",
       "    <tr style=\"text-align: right;\">\n",
       "      <th></th>\n",
       "      <th>country</th>\n",
       "      <th>year</th>\n",
       "      <th>sex</th>\n",
       "      <th>generation</th>\n",
       "      <th>population</th>\n",
       "      <th>suicides/100k pop</th>\n",
       "    </tr>\n",
       "  </thead>\n",
       "  <tbody>\n",
       "    <tr>\n",
       "      <th>0</th>\n",
       "      <td>Albania</td>\n",
       "      <td>1987</td>\n",
       "      <td>1</td>\n",
       "      <td>2</td>\n",
       "      <td>312900</td>\n",
       "      <td>6.71</td>\n",
       "    </tr>\n",
       "    <tr>\n",
       "      <th>1</th>\n",
       "      <td>Albania</td>\n",
       "      <td>1987</td>\n",
       "      <td>1</td>\n",
       "      <td>5</td>\n",
       "      <td>308000</td>\n",
       "      <td>5.19</td>\n",
       "    </tr>\n",
       "    <tr>\n",
       "      <th>2</th>\n",
       "      <td>Albania</td>\n",
       "      <td>1987</td>\n",
       "      <td>0</td>\n",
       "      <td>2</td>\n",
       "      <td>289700</td>\n",
       "      <td>4.83</td>\n",
       "    </tr>\n",
       "    <tr>\n",
       "      <th>3</th>\n",
       "      <td>Albania</td>\n",
       "      <td>1987</td>\n",
       "      <td>1</td>\n",
       "      <td>1</td>\n",
       "      <td>21800</td>\n",
       "      <td>4.59</td>\n",
       "    </tr>\n",
       "    <tr>\n",
       "      <th>4</th>\n",
       "      <td>Albania</td>\n",
       "      <td>1987</td>\n",
       "      <td>1</td>\n",
       "      <td>0</td>\n",
       "      <td>274300</td>\n",
       "      <td>3.28</td>\n",
       "    </tr>\n",
       "    <tr>\n",
       "      <th>...</th>\n",
       "      <td>...</td>\n",
       "      <td>...</td>\n",
       "      <td>...</td>\n",
       "      <td>...</td>\n",
       "      <td>...</td>\n",
       "      <td>...</td>\n",
       "    </tr>\n",
       "    <tr>\n",
       "      <th>27815</th>\n",
       "      <td>Uzbekistan</td>\n",
       "      <td>2014</td>\n",
       "      <td>0</td>\n",
       "      <td>2</td>\n",
       "      <td>3620833</td>\n",
       "      <td>2.96</td>\n",
       "    </tr>\n",
       "    <tr>\n",
       "      <th>27816</th>\n",
       "      <td>Uzbekistan</td>\n",
       "      <td>2014</td>\n",
       "      <td>0</td>\n",
       "      <td>5</td>\n",
       "      <td>348465</td>\n",
       "      <td>2.58</td>\n",
       "    </tr>\n",
       "    <tr>\n",
       "      <th>27817</th>\n",
       "      <td>Uzbekistan</td>\n",
       "      <td>2014</td>\n",
       "      <td>1</td>\n",
       "      <td>3</td>\n",
       "      <td>2762158</td>\n",
       "      <td>2.17</td>\n",
       "    </tr>\n",
       "    <tr>\n",
       "      <th>27818</th>\n",
       "      <td>Uzbekistan</td>\n",
       "      <td>2014</td>\n",
       "      <td>0</td>\n",
       "      <td>3</td>\n",
       "      <td>2631600</td>\n",
       "      <td>1.67</td>\n",
       "    </tr>\n",
       "    <tr>\n",
       "      <th>27819</th>\n",
       "      <td>Uzbekistan</td>\n",
       "      <td>2014</td>\n",
       "      <td>0</td>\n",
       "      <td>0</td>\n",
       "      <td>1438935</td>\n",
       "      <td>1.46</td>\n",
       "    </tr>\n",
       "  </tbody>\n",
       "</table>\n",
       "<p>27820 rows × 6 columns</p>\n",
       "</div>"
      ],
      "text/plain": [
       "          country  year  sex  generation  population  suicides/100k pop\n",
       "0         Albania  1987    1           2      312900               6.71\n",
       "1         Albania  1987    1           5      308000               5.19\n",
       "2         Albania  1987    0           2      289700               4.83\n",
       "3         Albania  1987    1           1       21800               4.59\n",
       "4         Albania  1987    1           0      274300               3.28\n",
       "...           ...   ...  ...         ...         ...                ...\n",
       "27815  Uzbekistan  2014    0           2     3620833               2.96\n",
       "27816  Uzbekistan  2014    0           5      348465               2.58\n",
       "27817  Uzbekistan  2014    1           3     2762158               2.17\n",
       "27818  Uzbekistan  2014    0           3     2631600               1.67\n",
       "27819  Uzbekistan  2014    0           0     1438935               1.46\n",
       "\n",
       "[27820 rows x 6 columns]"
      ]
     },
     "execution_count": 28,
     "metadata": {},
     "output_type": "execute_result"
    }
   ],
   "source": [
    "#para realizar este mdelo debemos modificar el dataset para obtener solo\n",
    "#Para el algoritmo a priori utilizaremos los datos de: country, year, sex y generation\n",
    "columnas = ['country','year','sex','generation','population','suicides/100k pop']\n",
    "dataset_a_priori = data[columnas]\n",
    "dataset_a_priori"
   ]
  },
  {
   "cell_type": "code",
   "execution_count": 29,
   "metadata": {
    "scrolled": true
   },
   "outputs": [],
   "source": [
    "daf = pd.DataFrame(columns = columnas)\n",
    "for i in range(dataset_a_priori.shape[0]):\n",
    "    pob = int(dataset_a_priori.population[i])\n",
    "    suicide_rel = int(dataset_a_priori['suicides/100k pop'][i])\n",
    "    cant = int(pob*suicide_rel/4000000)\n",
    "    z = pd.DataFrame(dataset_a_priori.iloc[i,:]).T\n",
    "    if cant >= 1: \n",
    "        daf = pd.concat([daf,pd.concat([z]*cant)])\n",
    "\n",
    "daf = daf.drop(['population'], axis=1)\n",
    "daf = daf.drop(['suicides/100k pop'], axis=1)"
   ]
  },
  {
   "cell_type": "code",
   "execution_count": 30,
   "metadata": {},
   "outputs": [
    {
     "data": {
      "text/html": [
       "<div>\n",
       "<style scoped>\n",
       "    .dataframe tbody tr th:only-of-type {\n",
       "        vertical-align: middle;\n",
       "    }\n",
       "\n",
       "    .dataframe tbody tr th {\n",
       "        vertical-align: top;\n",
       "    }\n",
       "\n",
       "    .dataframe thead th {\n",
       "        text-align: right;\n",
       "    }\n",
       "</style>\n",
       "<table border=\"1\" class=\"dataframe\">\n",
       "  <thead>\n",
       "    <tr style=\"text-align: right;\">\n",
       "      <th></th>\n",
       "      <th>country</th>\n",
       "      <th>year</th>\n",
       "      <th>sex</th>\n",
       "      <th>generation</th>\n",
       "    </tr>\n",
       "  </thead>\n",
       "  <tbody>\n",
       "    <tr>\n",
       "      <th>588</th>\n",
       "      <td>Argentina</td>\n",
       "      <td>1985</td>\n",
       "      <td>1</td>\n",
       "      <td>1</td>\n",
       "    </tr>\n",
       "    <tr>\n",
       "      <th>588</th>\n",
       "      <td>Argentina</td>\n",
       "      <td>1985</td>\n",
       "      <td>1</td>\n",
       "      <td>1</td>\n",
       "    </tr>\n",
       "    <tr>\n",
       "      <th>588</th>\n",
       "      <td>Argentina</td>\n",
       "      <td>1985</td>\n",
       "      <td>1</td>\n",
       "      <td>1</td>\n",
       "    </tr>\n",
       "    <tr>\n",
       "      <th>588</th>\n",
       "      <td>Argentina</td>\n",
       "      <td>1985</td>\n",
       "      <td>1</td>\n",
       "      <td>1</td>\n",
       "    </tr>\n",
       "    <tr>\n",
       "      <th>589</th>\n",
       "      <td>Argentina</td>\n",
       "      <td>1985</td>\n",
       "      <td>1</td>\n",
       "      <td>1</td>\n",
       "    </tr>\n",
       "    <tr>\n",
       "      <th>...</th>\n",
       "      <td>...</td>\n",
       "      <td>...</td>\n",
       "      <td>...</td>\n",
       "      <td>...</td>\n",
       "    </tr>\n",
       "    <tr>\n",
       "      <th>27814</th>\n",
       "      <td>Uzbekistan</td>\n",
       "      <td>2014</td>\n",
       "      <td>0</td>\n",
       "      <td>4</td>\n",
       "    </tr>\n",
       "    <tr>\n",
       "      <th>27814</th>\n",
       "      <td>Uzbekistan</td>\n",
       "      <td>2014</td>\n",
       "      <td>0</td>\n",
       "      <td>4</td>\n",
       "    </tr>\n",
       "    <tr>\n",
       "      <th>27814</th>\n",
       "      <td>Uzbekistan</td>\n",
       "      <td>2014</td>\n",
       "      <td>0</td>\n",
       "      <td>4</td>\n",
       "    </tr>\n",
       "    <tr>\n",
       "      <th>27815</th>\n",
       "      <td>Uzbekistan</td>\n",
       "      <td>2014</td>\n",
       "      <td>0</td>\n",
       "      <td>2</td>\n",
       "    </tr>\n",
       "    <tr>\n",
       "      <th>27817</th>\n",
       "      <td>Uzbekistan</td>\n",
       "      <td>2014</td>\n",
       "      <td>1</td>\n",
       "      <td>3</td>\n",
       "    </tr>\n",
       "  </tbody>\n",
       "</table>\n",
       "<p>154373 rows × 4 columns</p>\n",
       "</div>"
      ],
      "text/plain": [
       "          country  year sex generation\n",
       "588     Argentina  1985   1          1\n",
       "588     Argentina  1985   1          1\n",
       "588     Argentina  1985   1          1\n",
       "588     Argentina  1985   1          1\n",
       "589     Argentina  1985   1          1\n",
       "...           ...   ...  ..        ...\n",
       "27814  Uzbekistan  2014   0          4\n",
       "27814  Uzbekistan  2014   0          4\n",
       "27814  Uzbekistan  2014   0          4\n",
       "27815  Uzbekistan  2014   0          2\n",
       "27817  Uzbekistan  2014   1          3\n",
       "\n",
       "[154373 rows x 4 columns]"
      ]
     },
     "execution_count": 30,
     "metadata": {},
     "output_type": "execute_result"
    }
   ],
   "source": [
    "daf"
   ]
  },
  {
   "cell_type": "markdown",
   "metadata": {},
   "source": [
    "<font color=\"blue\">\n",
    "    <p>El siguiente dataframe será el itemset con el que buscaremos las reglas de asociación, con 112 columnas relativas a los distintos países, años, generaciones y sexo.</p>"
   ]
  },
  {
   "cell_type": "code",
   "execution_count": 31,
   "metadata": {},
   "outputs": [
    {
     "data": {
      "text/html": [
       "<div>\n",
       "<style scoped>\n",
       "    .dataframe tbody tr th:only-of-type {\n",
       "        vertical-align: middle;\n",
       "    }\n",
       "\n",
       "    .dataframe tbody tr th {\n",
       "        vertical-align: top;\n",
       "    }\n",
       "\n",
       "    .dataframe thead th {\n",
       "        text-align: right;\n",
       "    }\n",
       "</style>\n",
       "<table border=\"1\" class=\"dataframe\">\n",
       "  <thead>\n",
       "    <tr style=\"text-align: right;\">\n",
       "      <th></th>\n",
       "      <th>country_Argentina</th>\n",
       "      <th>country_Australia</th>\n",
       "      <th>country_Austria</th>\n",
       "      <th>country_Azerbaijan</th>\n",
       "      <th>country_Belarus</th>\n",
       "      <th>country_Belgium</th>\n",
       "      <th>country_Bosnia and Herzegovina</th>\n",
       "      <th>country_Brazil</th>\n",
       "      <th>country_Bulgaria</th>\n",
       "      <th>country_Canada</th>\n",
       "      <th>...</th>\n",
       "      <th>year_2015</th>\n",
       "      <th>year_2016</th>\n",
       "      <th>sex_0</th>\n",
       "      <th>sex_1</th>\n",
       "      <th>generation_0</th>\n",
       "      <th>generation_1</th>\n",
       "      <th>generation_2</th>\n",
       "      <th>generation_3</th>\n",
       "      <th>generation_4</th>\n",
       "      <th>generation_5</th>\n",
       "    </tr>\n",
       "  </thead>\n",
       "  <tbody>\n",
       "    <tr>\n",
       "      <th>588</th>\n",
       "      <td>1</td>\n",
       "      <td>0</td>\n",
       "      <td>0</td>\n",
       "      <td>0</td>\n",
       "      <td>0</td>\n",
       "      <td>0</td>\n",
       "      <td>0</td>\n",
       "      <td>0</td>\n",
       "      <td>0</td>\n",
       "      <td>0</td>\n",
       "      <td>...</td>\n",
       "      <td>0</td>\n",
       "      <td>0</td>\n",
       "      <td>0</td>\n",
       "      <td>1</td>\n",
       "      <td>0</td>\n",
       "      <td>1</td>\n",
       "      <td>0</td>\n",
       "      <td>0</td>\n",
       "      <td>0</td>\n",
       "      <td>0</td>\n",
       "    </tr>\n",
       "    <tr>\n",
       "      <th>588</th>\n",
       "      <td>1</td>\n",
       "      <td>0</td>\n",
       "      <td>0</td>\n",
       "      <td>0</td>\n",
       "      <td>0</td>\n",
       "      <td>0</td>\n",
       "      <td>0</td>\n",
       "      <td>0</td>\n",
       "      <td>0</td>\n",
       "      <td>0</td>\n",
       "      <td>...</td>\n",
       "      <td>0</td>\n",
       "      <td>0</td>\n",
       "      <td>0</td>\n",
       "      <td>1</td>\n",
       "      <td>0</td>\n",
       "      <td>1</td>\n",
       "      <td>0</td>\n",
       "      <td>0</td>\n",
       "      <td>0</td>\n",
       "      <td>0</td>\n",
       "    </tr>\n",
       "    <tr>\n",
       "      <th>588</th>\n",
       "      <td>1</td>\n",
       "      <td>0</td>\n",
       "      <td>0</td>\n",
       "      <td>0</td>\n",
       "      <td>0</td>\n",
       "      <td>0</td>\n",
       "      <td>0</td>\n",
       "      <td>0</td>\n",
       "      <td>0</td>\n",
       "      <td>0</td>\n",
       "      <td>...</td>\n",
       "      <td>0</td>\n",
       "      <td>0</td>\n",
       "      <td>0</td>\n",
       "      <td>1</td>\n",
       "      <td>0</td>\n",
       "      <td>1</td>\n",
       "      <td>0</td>\n",
       "      <td>0</td>\n",
       "      <td>0</td>\n",
       "      <td>0</td>\n",
       "    </tr>\n",
       "    <tr>\n",
       "      <th>588</th>\n",
       "      <td>1</td>\n",
       "      <td>0</td>\n",
       "      <td>0</td>\n",
       "      <td>0</td>\n",
       "      <td>0</td>\n",
       "      <td>0</td>\n",
       "      <td>0</td>\n",
       "      <td>0</td>\n",
       "      <td>0</td>\n",
       "      <td>0</td>\n",
       "      <td>...</td>\n",
       "      <td>0</td>\n",
       "      <td>0</td>\n",
       "      <td>0</td>\n",
       "      <td>1</td>\n",
       "      <td>0</td>\n",
       "      <td>1</td>\n",
       "      <td>0</td>\n",
       "      <td>0</td>\n",
       "      <td>0</td>\n",
       "      <td>0</td>\n",
       "    </tr>\n",
       "    <tr>\n",
       "      <th>589</th>\n",
       "      <td>1</td>\n",
       "      <td>0</td>\n",
       "      <td>0</td>\n",
       "      <td>0</td>\n",
       "      <td>0</td>\n",
       "      <td>0</td>\n",
       "      <td>0</td>\n",
       "      <td>0</td>\n",
       "      <td>0</td>\n",
       "      <td>0</td>\n",
       "      <td>...</td>\n",
       "      <td>0</td>\n",
       "      <td>0</td>\n",
       "      <td>0</td>\n",
       "      <td>1</td>\n",
       "      <td>0</td>\n",
       "      <td>1</td>\n",
       "      <td>0</td>\n",
       "      <td>0</td>\n",
       "      <td>0</td>\n",
       "      <td>0</td>\n",
       "    </tr>\n",
       "  </tbody>\n",
       "</table>\n",
       "<p>5 rows × 112 columns</p>\n",
       "</div>"
      ],
      "text/plain": [
       "     country_Argentina  country_Australia  country_Austria  \\\n",
       "588                  1                  0                0   \n",
       "588                  1                  0                0   \n",
       "588                  1                  0                0   \n",
       "588                  1                  0                0   \n",
       "589                  1                  0                0   \n",
       "\n",
       "     country_Azerbaijan  country_Belarus  country_Belgium  \\\n",
       "588                   0                0                0   \n",
       "588                   0                0                0   \n",
       "588                   0                0                0   \n",
       "588                   0                0                0   \n",
       "589                   0                0                0   \n",
       "\n",
       "     country_Bosnia and Herzegovina  country_Brazil  country_Bulgaria  \\\n",
       "588                               0               0                 0   \n",
       "588                               0               0                 0   \n",
       "588                               0               0                 0   \n",
       "588                               0               0                 0   \n",
       "589                               0               0                 0   \n",
       "\n",
       "     country_Canada  ...  year_2015  year_2016  sex_0  sex_1  generation_0  \\\n",
       "588               0  ...          0          0      0      1             0   \n",
       "588               0  ...          0          0      0      1             0   \n",
       "588               0  ...          0          0      0      1             0   \n",
       "588               0  ...          0          0      0      1             0   \n",
       "589               0  ...          0          0      0      1             0   \n",
       "\n",
       "     generation_1  generation_2  generation_3  generation_4  generation_5  \n",
       "588             1             0             0             0             0  \n",
       "588             1             0             0             0             0  \n",
       "588             1             0             0             0             0  \n",
       "588             1             0             0             0             0  \n",
       "589             1             0             0             0             0  \n",
       "\n",
       "[5 rows x 112 columns]"
      ]
     },
     "execution_count": 31,
     "metadata": {},
     "output_type": "execute_result"
    }
   ],
   "source": [
    "daf['year'] = daf['year'].astype('str')\n",
    "daf['generation'] = daf['generation'].astype('str')\n",
    "daf = pd.get_dummies(daf)\n",
    "#dataset_a_priori.columns.values\n",
    "daf.head(5)"
   ]
  },
  {
   "cell_type": "code",
   "execution_count": 32,
   "metadata": {},
   "outputs": [],
   "source": [
    "#creamos todas las funciones necesarias\n",
    "def calculo_itemset (dataset,min_soporte):\n",
    "    frequent_itemsets = apriori(dataset, min_support=min_soporte, use_colnames=True)\n",
    "    frequent_itemsets['length'] = frequent_itemsets['itemsets'].apply(lambda x: len(x))\n",
    "    return  frequent_itemsets\n",
    "def itemset_frecuentes(itemsets, k):\n",
    "    new_itemsets = itemsets[(itemsets['length'] == k) & (itemsets['support'] >= min_soporte)]\n",
    "    return new_itemsets\n",
    "def itemset_frecuentes_mayor_1(itemsets):\n",
    "    itemsets = itemsets[(itemsets['length'] >= 2) & (itemsets['support'] >= min_soporte)]\n",
    "    return itemsets\n",
    "def itemsets_frecuentes(itemsets):\n",
    "    itemsets = itemsets[(itemsets['support'] >= min_soporte)]\n",
    "    return itemsets\n",
    "def reglas_asociacion(itemsets):\n",
    "    reglas = association_rules(itemsets, metric=\"confidence\", min_threshold=0)\n",
    "    return reglas\n",
    "def reglas_alta_confianza (reglas, confianza):\n",
    "    filtro = reglas.confidence >= confianza\n",
    "    alta_confianza = reglas[filtro]\n",
    "    return alta_confianza\n",
    "def reglas_antecesor(reglas, antecesor):\n",
    "    new_reglas = reglas[reglas['antecedents'] == {antecesor}]\n",
    "    return new_reglas\n",
    "def reglas_confianza(reglas, umbral):\n",
    "    filtro = reglas.confidence >= confianza\n",
    "    new_reglas = reglas[filtro]\n",
    "    return new_reglas"
   ]
  },
  {
   "cell_type": "markdown",
   "metadata": {},
   "source": [
    "<font color=\"blue\">\n",
    "    <p>A partir de Aquí, ya aplicaremos el algoritmo a priori como tal, buscando los itemsetfrecuentes y sus respectivas reglas de confianza.</p>"
   ]
  },
  {
   "cell_type": "code",
   "execution_count": 33,
   "metadata": {},
   "outputs": [],
   "source": [
    "soporte = 0.05\n",
    "min_soporte = 0.1\n",
    "# Ahora aplicaremos todas las funciones a un ejemplo concreto.\n",
    "#primero creamos todos los itemsets\n",
    "itemset = calculo_itemset(daf,soporte)\n",
    "#guardamos los itemset relativos a k = 1\n",
    "itemset_k_1 = itemset_frecuentes(itemset,1)\n",
    "# los relativos a k= 2\n",
    "itemset_k_2 = itemset_frecuentes(itemset,2)\n",
    "# y k = 3\n",
    "itemset_k_3 = itemset_frecuentes(itemset,3)"
   ]
  },
  {
   "cell_type": "code",
   "execution_count": 34,
   "metadata": {
    "scrolled": false
   },
   "outputs": [
    {
     "data": {
      "text/html": [
       "<div>\n",
       "<style scoped>\n",
       "    .dataframe tbody tr th:only-of-type {\n",
       "        vertical-align: middle;\n",
       "    }\n",
       "\n",
       "    .dataframe tbody tr th {\n",
       "        vertical-align: top;\n",
       "    }\n",
       "\n",
       "    .dataframe thead th {\n",
       "        text-align: right;\n",
       "    }\n",
       "</style>\n",
       "<table border=\"1\" class=\"dataframe\">\n",
       "  <thead>\n",
       "    <tr style=\"text-align: right;\">\n",
       "      <th></th>\n",
       "      <th>antecedents</th>\n",
       "      <th>consequents</th>\n",
       "      <th>antecedent support</th>\n",
       "      <th>consequent support</th>\n",
       "      <th>support</th>\n",
       "      <th>confidence</th>\n",
       "      <th>lift</th>\n",
       "      <th>leverage</th>\n",
       "      <th>conviction</th>\n",
       "    </tr>\n",
       "  </thead>\n",
       "  <tbody>\n",
       "    <tr>\n",
       "      <th>0</th>\n",
       "      <td>(sex_1)</td>\n",
       "      <td>(country_Japan)</td>\n",
       "      <td>0.790540</td>\n",
       "      <td>0.126862</td>\n",
       "      <td>0.087943</td>\n",
       "      <td>0.111244</td>\n",
       "      <td>0.876893</td>\n",
       "      <td>-0.012346</td>\n",
       "      <td>0.982428</td>\n",
       "    </tr>\n",
       "    <tr>\n",
       "      <th>1</th>\n",
       "      <td>(country_Japan)</td>\n",
       "      <td>(sex_1)</td>\n",
       "      <td>0.126862</td>\n",
       "      <td>0.790540</td>\n",
       "      <td>0.087943</td>\n",
       "      <td>0.693219</td>\n",
       "      <td>0.876893</td>\n",
       "      <td>-0.012346</td>\n",
       "      <td>0.682768</td>\n",
       "    </tr>\n",
       "    <tr>\n",
       "      <th>2</th>\n",
       "      <td>(sex_1)</td>\n",
       "      <td>(country_Russian Federation)</td>\n",
       "      <td>0.790540</td>\n",
       "      <td>0.191957</td>\n",
       "      <td>0.159270</td>\n",
       "      <td>0.201470</td>\n",
       "      <td>1.049557</td>\n",
       "      <td>0.007520</td>\n",
       "      <td>1.011913</td>\n",
       "    </tr>\n",
       "    <tr>\n",
       "      <th>3</th>\n",
       "      <td>(country_Russian Federation)</td>\n",
       "      <td>(sex_1)</td>\n",
       "      <td>0.191957</td>\n",
       "      <td>0.790540</td>\n",
       "      <td>0.159270</td>\n",
       "      <td>0.829717</td>\n",
       "      <td>1.049557</td>\n",
       "      <td>0.007520</td>\n",
       "      <td>1.230070</td>\n",
       "    </tr>\n",
       "    <tr>\n",
       "      <th>4</th>\n",
       "      <td>(country_Russian Federation)</td>\n",
       "      <td>(generation_0)</td>\n",
       "      <td>0.191957</td>\n",
       "      <td>0.347664</td>\n",
       "      <td>0.075207</td>\n",
       "      <td>0.391793</td>\n",
       "      <td>1.126928</td>\n",
       "      <td>0.008471</td>\n",
       "      <td>1.072555</td>\n",
       "    </tr>\n",
       "    <tr>\n",
       "      <th>5</th>\n",
       "      <td>(generation_0)</td>\n",
       "      <td>(country_Russian Federation)</td>\n",
       "      <td>0.347664</td>\n",
       "      <td>0.191957</td>\n",
       "      <td>0.075207</td>\n",
       "      <td>0.216322</td>\n",
       "      <td>1.126928</td>\n",
       "      <td>0.008471</td>\n",
       "      <td>1.031090</td>\n",
       "    </tr>\n",
       "    <tr>\n",
       "      <th>6</th>\n",
       "      <td>(sex_1)</td>\n",
       "      <td>(country_United States)</td>\n",
       "      <td>0.790540</td>\n",
       "      <td>0.160125</td>\n",
       "      <td>0.129304</td>\n",
       "      <td>0.163564</td>\n",
       "      <td>1.021475</td>\n",
       "      <td>0.002718</td>\n",
       "      <td>1.004111</td>\n",
       "    </tr>\n",
       "    <tr>\n",
       "      <th>7</th>\n",
       "      <td>(country_United States)</td>\n",
       "      <td>(sex_1)</td>\n",
       "      <td>0.160125</td>\n",
       "      <td>0.790540</td>\n",
       "      <td>0.129304</td>\n",
       "      <td>0.807516</td>\n",
       "      <td>1.021475</td>\n",
       "      <td>0.002718</td>\n",
       "      <td>1.088198</td>\n",
       "    </tr>\n",
       "    <tr>\n",
       "      <th>8</th>\n",
       "      <td>(generation_0)</td>\n",
       "      <td>(country_United States)</td>\n",
       "      <td>0.347664</td>\n",
       "      <td>0.160125</td>\n",
       "      <td>0.055483</td>\n",
       "      <td>0.159586</td>\n",
       "      <td>0.996635</td>\n",
       "      <td>-0.000187</td>\n",
       "      <td>0.999359</td>\n",
       "    </tr>\n",
       "    <tr>\n",
       "      <th>9</th>\n",
       "      <td>(country_United States)</td>\n",
       "      <td>(generation_0)</td>\n",
       "      <td>0.160125</td>\n",
       "      <td>0.347664</td>\n",
       "      <td>0.055483</td>\n",
       "      <td>0.346495</td>\n",
       "      <td>0.996635</td>\n",
       "      <td>-0.000187</td>\n",
       "      <td>0.998210</td>\n",
       "    </tr>\n",
       "    <tr>\n",
       "      <th>10</th>\n",
       "      <td>(sex_0)</td>\n",
       "      <td>(generation_0)</td>\n",
       "      <td>0.209460</td>\n",
       "      <td>0.347664</td>\n",
       "      <td>0.064020</td>\n",
       "      <td>0.305644</td>\n",
       "      <td>0.879135</td>\n",
       "      <td>-0.008802</td>\n",
       "      <td>0.939483</td>\n",
       "    </tr>\n",
       "    <tr>\n",
       "      <th>11</th>\n",
       "      <td>(generation_0)</td>\n",
       "      <td>(sex_0)</td>\n",
       "      <td>0.347664</td>\n",
       "      <td>0.209460</td>\n",
       "      <td>0.064020</td>\n",
       "      <td>0.184144</td>\n",
       "      <td>0.879135</td>\n",
       "      <td>-0.008802</td>\n",
       "      <td>0.968970</td>\n",
       "    </tr>\n",
       "    <tr>\n",
       "      <th>12</th>\n",
       "      <td>(sex_0)</td>\n",
       "      <td>(generation_5)</td>\n",
       "      <td>0.209460</td>\n",
       "      <td>0.267527</td>\n",
       "      <td>0.066508</td>\n",
       "      <td>0.317520</td>\n",
       "      <td>1.186868</td>\n",
       "      <td>0.010471</td>\n",
       "      <td>1.073251</td>\n",
       "    </tr>\n",
       "    <tr>\n",
       "      <th>13</th>\n",
       "      <td>(generation_5)</td>\n",
       "      <td>(sex_0)</td>\n",
       "      <td>0.267527</td>\n",
       "      <td>0.209460</td>\n",
       "      <td>0.066508</td>\n",
       "      <td>0.248602</td>\n",
       "      <td>1.186868</td>\n",
       "      <td>0.010471</td>\n",
       "      <td>1.052091</td>\n",
       "    </tr>\n",
       "    <tr>\n",
       "      <th>14</th>\n",
       "      <td>(sex_1)</td>\n",
       "      <td>(generation_0)</td>\n",
       "      <td>0.790540</td>\n",
       "      <td>0.347664</td>\n",
       "      <td>0.283644</td>\n",
       "      <td>0.358798</td>\n",
       "      <td>1.032024</td>\n",
       "      <td>0.008802</td>\n",
       "      <td>1.017364</td>\n",
       "    </tr>\n",
       "    <tr>\n",
       "      <th>15</th>\n",
       "      <td>(generation_0)</td>\n",
       "      <td>(sex_1)</td>\n",
       "      <td>0.347664</td>\n",
       "      <td>0.790540</td>\n",
       "      <td>0.283644</td>\n",
       "      <td>0.815856</td>\n",
       "      <td>1.032024</td>\n",
       "      <td>0.008802</td>\n",
       "      <td>1.137481</td>\n",
       "    </tr>\n",
       "    <tr>\n",
       "      <th>16</th>\n",
       "      <td>(sex_1)</td>\n",
       "      <td>(generation_1)</td>\n",
       "      <td>0.790540</td>\n",
       "      <td>0.075395</td>\n",
       "      <td>0.050268</td>\n",
       "      <td>0.063587</td>\n",
       "      <td>0.843378</td>\n",
       "      <td>-0.009335</td>\n",
       "      <td>0.987390</td>\n",
       "    </tr>\n",
       "    <tr>\n",
       "      <th>17</th>\n",
       "      <td>(generation_1)</td>\n",
       "      <td>(sex_1)</td>\n",
       "      <td>0.075395</td>\n",
       "      <td>0.790540</td>\n",
       "      <td>0.050268</td>\n",
       "      <td>0.666724</td>\n",
       "      <td>0.843378</td>\n",
       "      <td>-0.009335</td>\n",
       "      <td>0.628489</td>\n",
       "    </tr>\n",
       "    <tr>\n",
       "      <th>18</th>\n",
       "      <td>(sex_1)</td>\n",
       "      <td>(generation_2)</td>\n",
       "      <td>0.790540</td>\n",
       "      <td>0.224068</td>\n",
       "      <td>0.185071</td>\n",
       "      <td>0.234107</td>\n",
       "      <td>1.044807</td>\n",
       "      <td>0.007937</td>\n",
       "      <td>1.013109</td>\n",
       "    </tr>\n",
       "    <tr>\n",
       "      <th>19</th>\n",
       "      <td>(generation_2)</td>\n",
       "      <td>(sex_1)</td>\n",
       "      <td>0.224068</td>\n",
       "      <td>0.790540</td>\n",
       "      <td>0.185071</td>\n",
       "      <td>0.825961</td>\n",
       "      <td>1.044807</td>\n",
       "      <td>0.007937</td>\n",
       "      <td>1.203526</td>\n",
       "    </tr>\n",
       "    <tr>\n",
       "      <th>20</th>\n",
       "      <td>(generation_4)</td>\n",
       "      <td>(sex_1)</td>\n",
       "      <td>0.084944</td>\n",
       "      <td>0.790540</td>\n",
       "      <td>0.070168</td>\n",
       "      <td>0.826050</td>\n",
       "      <td>1.044920</td>\n",
       "      <td>0.003016</td>\n",
       "      <td>1.204144</td>\n",
       "    </tr>\n",
       "    <tr>\n",
       "      <th>21</th>\n",
       "      <td>(sex_1)</td>\n",
       "      <td>(generation_4)</td>\n",
       "      <td>0.790540</td>\n",
       "      <td>0.084944</td>\n",
       "      <td>0.070168</td>\n",
       "      <td>0.088759</td>\n",
       "      <td>1.044920</td>\n",
       "      <td>0.003016</td>\n",
       "      <td>1.004187</td>\n",
       "    </tr>\n",
       "    <tr>\n",
       "      <th>22</th>\n",
       "      <td>(sex_1)</td>\n",
       "      <td>(generation_5)</td>\n",
       "      <td>0.790540</td>\n",
       "      <td>0.267527</td>\n",
       "      <td>0.201020</td>\n",
       "      <td>0.254281</td>\n",
       "      <td>0.950488</td>\n",
       "      <td>-0.010471</td>\n",
       "      <td>0.982237</td>\n",
       "    </tr>\n",
       "    <tr>\n",
       "      <th>23</th>\n",
       "      <td>(generation_5)</td>\n",
       "      <td>(sex_1)</td>\n",
       "      <td>0.267527</td>\n",
       "      <td>0.790540</td>\n",
       "      <td>0.201020</td>\n",
       "      <td>0.751398</td>\n",
       "      <td>0.950488</td>\n",
       "      <td>-0.010471</td>\n",
       "      <td>0.842554</td>\n",
       "    </tr>\n",
       "    <tr>\n",
       "      <th>24</th>\n",
       "      <td>(sex_1, country_Russian Federation)</td>\n",
       "      <td>(generation_0)</td>\n",
       "      <td>0.159270</td>\n",
       "      <td>0.347664</td>\n",
       "      <td>0.065517</td>\n",
       "      <td>0.411356</td>\n",
       "      <td>1.183197</td>\n",
       "      <td>0.010144</td>\n",
       "      <td>1.108200</td>\n",
       "    </tr>\n",
       "    <tr>\n",
       "      <th>25</th>\n",
       "      <td>(sex_1, generation_0)</td>\n",
       "      <td>(country_Russian Federation)</td>\n",
       "      <td>0.283644</td>\n",
       "      <td>0.191957</td>\n",
       "      <td>0.065517</td>\n",
       "      <td>0.230982</td>\n",
       "      <td>1.203299</td>\n",
       "      <td>0.011069</td>\n",
       "      <td>1.050746</td>\n",
       "    </tr>\n",
       "    <tr>\n",
       "      <th>26</th>\n",
       "      <td>(country_Russian Federation, generation_0)</td>\n",
       "      <td>(sex_1)</td>\n",
       "      <td>0.075207</td>\n",
       "      <td>0.790540</td>\n",
       "      <td>0.065517</td>\n",
       "      <td>0.871146</td>\n",
       "      <td>1.101963</td>\n",
       "      <td>0.006062</td>\n",
       "      <td>1.625557</td>\n",
       "    </tr>\n",
       "    <tr>\n",
       "      <th>27</th>\n",
       "      <td>(sex_1)</td>\n",
       "      <td>(country_Russian Federation, generation_0)</td>\n",
       "      <td>0.790540</td>\n",
       "      <td>0.075207</td>\n",
       "      <td>0.065517</td>\n",
       "      <td>0.082876</td>\n",
       "      <td>1.101963</td>\n",
       "      <td>0.006062</td>\n",
       "      <td>1.008361</td>\n",
       "    </tr>\n",
       "    <tr>\n",
       "      <th>28</th>\n",
       "      <td>(country_Russian Federation)</td>\n",
       "      <td>(sex_1, generation_0)</td>\n",
       "      <td>0.191957</td>\n",
       "      <td>0.283644</td>\n",
       "      <td>0.065517</td>\n",
       "      <td>0.341309</td>\n",
       "      <td>1.203299</td>\n",
       "      <td>0.011069</td>\n",
       "      <td>1.087544</td>\n",
       "    </tr>\n",
       "    <tr>\n",
       "      <th>29</th>\n",
       "      <td>(generation_0)</td>\n",
       "      <td>(sex_1, country_Russian Federation)</td>\n",
       "      <td>0.347664</td>\n",
       "      <td>0.159270</td>\n",
       "      <td>0.065517</td>\n",
       "      <td>0.188448</td>\n",
       "      <td>1.183197</td>\n",
       "      <td>0.010144</td>\n",
       "      <td>1.035953</td>\n",
       "    </tr>\n",
       "  </tbody>\n",
       "</table>\n",
       "</div>"
      ],
      "text/plain": [
       "                                   antecedents  \\\n",
       "0                                      (sex_1)   \n",
       "1                              (country_Japan)   \n",
       "2                                      (sex_1)   \n",
       "3                 (country_Russian Federation)   \n",
       "4                 (country_Russian Federation)   \n",
       "5                               (generation_0)   \n",
       "6                                      (sex_1)   \n",
       "7                      (country_United States)   \n",
       "8                               (generation_0)   \n",
       "9                      (country_United States)   \n",
       "10                                     (sex_0)   \n",
       "11                              (generation_0)   \n",
       "12                                     (sex_0)   \n",
       "13                              (generation_5)   \n",
       "14                                     (sex_1)   \n",
       "15                              (generation_0)   \n",
       "16                                     (sex_1)   \n",
       "17                              (generation_1)   \n",
       "18                                     (sex_1)   \n",
       "19                              (generation_2)   \n",
       "20                              (generation_4)   \n",
       "21                                     (sex_1)   \n",
       "22                                     (sex_1)   \n",
       "23                              (generation_5)   \n",
       "24         (sex_1, country_Russian Federation)   \n",
       "25                       (sex_1, generation_0)   \n",
       "26  (country_Russian Federation, generation_0)   \n",
       "27                                     (sex_1)   \n",
       "28                (country_Russian Federation)   \n",
       "29                              (generation_0)   \n",
       "\n",
       "                                   consequents  antecedent support  \\\n",
       "0                              (country_Japan)            0.790540   \n",
       "1                                      (sex_1)            0.126862   \n",
       "2                 (country_Russian Federation)            0.790540   \n",
       "3                                      (sex_1)            0.191957   \n",
       "4                               (generation_0)            0.191957   \n",
       "5                 (country_Russian Federation)            0.347664   \n",
       "6                      (country_United States)            0.790540   \n",
       "7                                      (sex_1)            0.160125   \n",
       "8                      (country_United States)            0.347664   \n",
       "9                               (generation_0)            0.160125   \n",
       "10                              (generation_0)            0.209460   \n",
       "11                                     (sex_0)            0.347664   \n",
       "12                              (generation_5)            0.209460   \n",
       "13                                     (sex_0)            0.267527   \n",
       "14                              (generation_0)            0.790540   \n",
       "15                                     (sex_1)            0.347664   \n",
       "16                              (generation_1)            0.790540   \n",
       "17                                     (sex_1)            0.075395   \n",
       "18                              (generation_2)            0.790540   \n",
       "19                                     (sex_1)            0.224068   \n",
       "20                                     (sex_1)            0.084944   \n",
       "21                              (generation_4)            0.790540   \n",
       "22                              (generation_5)            0.790540   \n",
       "23                                     (sex_1)            0.267527   \n",
       "24                              (generation_0)            0.159270   \n",
       "25                (country_Russian Federation)            0.283644   \n",
       "26                                     (sex_1)            0.075207   \n",
       "27  (country_Russian Federation, generation_0)            0.790540   \n",
       "28                       (sex_1, generation_0)            0.191957   \n",
       "29         (sex_1, country_Russian Federation)            0.347664   \n",
       "\n",
       "    consequent support   support  confidence      lift  leverage  conviction  \n",
       "0             0.126862  0.087943    0.111244  0.876893 -0.012346    0.982428  \n",
       "1             0.790540  0.087943    0.693219  0.876893 -0.012346    0.682768  \n",
       "2             0.191957  0.159270    0.201470  1.049557  0.007520    1.011913  \n",
       "3             0.790540  0.159270    0.829717  1.049557  0.007520    1.230070  \n",
       "4             0.347664  0.075207    0.391793  1.126928  0.008471    1.072555  \n",
       "5             0.191957  0.075207    0.216322  1.126928  0.008471    1.031090  \n",
       "6             0.160125  0.129304    0.163564  1.021475  0.002718    1.004111  \n",
       "7             0.790540  0.129304    0.807516  1.021475  0.002718    1.088198  \n",
       "8             0.160125  0.055483    0.159586  0.996635 -0.000187    0.999359  \n",
       "9             0.347664  0.055483    0.346495  0.996635 -0.000187    0.998210  \n",
       "10            0.347664  0.064020    0.305644  0.879135 -0.008802    0.939483  \n",
       "11            0.209460  0.064020    0.184144  0.879135 -0.008802    0.968970  \n",
       "12            0.267527  0.066508    0.317520  1.186868  0.010471    1.073251  \n",
       "13            0.209460  0.066508    0.248602  1.186868  0.010471    1.052091  \n",
       "14            0.347664  0.283644    0.358798  1.032024  0.008802    1.017364  \n",
       "15            0.790540  0.283644    0.815856  1.032024  0.008802    1.137481  \n",
       "16            0.075395  0.050268    0.063587  0.843378 -0.009335    0.987390  \n",
       "17            0.790540  0.050268    0.666724  0.843378 -0.009335    0.628489  \n",
       "18            0.224068  0.185071    0.234107  1.044807  0.007937    1.013109  \n",
       "19            0.790540  0.185071    0.825961  1.044807  0.007937    1.203526  \n",
       "20            0.790540  0.070168    0.826050  1.044920  0.003016    1.204144  \n",
       "21            0.084944  0.070168    0.088759  1.044920  0.003016    1.004187  \n",
       "22            0.267527  0.201020    0.254281  0.950488 -0.010471    0.982237  \n",
       "23            0.790540  0.201020    0.751398  0.950488 -0.010471    0.842554  \n",
       "24            0.347664  0.065517    0.411356  1.183197  0.010144    1.108200  \n",
       "25            0.191957  0.065517    0.230982  1.203299  0.011069    1.050746  \n",
       "26            0.790540  0.065517    0.871146  1.101963  0.006062    1.625557  \n",
       "27            0.075207  0.065517    0.082876  1.101963  0.006062    1.008361  \n",
       "28            0.283644  0.065517    0.341309  1.203299  0.011069    1.087544  \n",
       "29            0.159270  0.065517    0.188448  1.183197  0.010144    1.035953  "
      ]
     },
     "execution_count": 34,
     "metadata": {},
     "output_type": "execute_result"
    }
   ],
   "source": [
    "# ahora obtenemos todas las reglas\n",
    "reglas = reglas_asociacion(itemset)\n",
    "reglas"
   ]
  },
  {
   "cell_type": "code",
   "execution_count": 35,
   "metadata": {},
   "outputs": [
    {
     "data": {
      "text/html": [
       "<div>\n",
       "<style scoped>\n",
       "    .dataframe tbody tr th:only-of-type {\n",
       "        vertical-align: middle;\n",
       "    }\n",
       "\n",
       "    .dataframe tbody tr th {\n",
       "        vertical-align: top;\n",
       "    }\n",
       "\n",
       "    .dataframe thead th {\n",
       "        text-align: right;\n",
       "    }\n",
       "</style>\n",
       "<table border=\"1\" class=\"dataframe\">\n",
       "  <thead>\n",
       "    <tr style=\"text-align: right;\">\n",
       "      <th></th>\n",
       "      <th>antecedents</th>\n",
       "      <th>consequents</th>\n",
       "      <th>antecedent support</th>\n",
       "      <th>consequent support</th>\n",
       "      <th>support</th>\n",
       "      <th>confidence</th>\n",
       "      <th>lift</th>\n",
       "      <th>leverage</th>\n",
       "      <th>conviction</th>\n",
       "    </tr>\n",
       "  </thead>\n",
       "  <tbody>\n",
       "    <tr>\n",
       "      <th>1</th>\n",
       "      <td>(country_Japan)</td>\n",
       "      <td>(sex_1)</td>\n",
       "      <td>0.126862</td>\n",
       "      <td>0.79054</td>\n",
       "      <td>0.087943</td>\n",
       "      <td>0.693219</td>\n",
       "      <td>0.876893</td>\n",
       "      <td>-0.012346</td>\n",
       "      <td>0.682768</td>\n",
       "    </tr>\n",
       "    <tr>\n",
       "      <th>3</th>\n",
       "      <td>(country_Russian Federation)</td>\n",
       "      <td>(sex_1)</td>\n",
       "      <td>0.191957</td>\n",
       "      <td>0.79054</td>\n",
       "      <td>0.159270</td>\n",
       "      <td>0.829717</td>\n",
       "      <td>1.049557</td>\n",
       "      <td>0.007520</td>\n",
       "      <td>1.230070</td>\n",
       "    </tr>\n",
       "    <tr>\n",
       "      <th>7</th>\n",
       "      <td>(country_United States)</td>\n",
       "      <td>(sex_1)</td>\n",
       "      <td>0.160125</td>\n",
       "      <td>0.79054</td>\n",
       "      <td>0.129304</td>\n",
       "      <td>0.807516</td>\n",
       "      <td>1.021475</td>\n",
       "      <td>0.002718</td>\n",
       "      <td>1.088198</td>\n",
       "    </tr>\n",
       "    <tr>\n",
       "      <th>15</th>\n",
       "      <td>(generation_0)</td>\n",
       "      <td>(sex_1)</td>\n",
       "      <td>0.347664</td>\n",
       "      <td>0.79054</td>\n",
       "      <td>0.283644</td>\n",
       "      <td>0.815856</td>\n",
       "      <td>1.032024</td>\n",
       "      <td>0.008802</td>\n",
       "      <td>1.137481</td>\n",
       "    </tr>\n",
       "    <tr>\n",
       "      <th>17</th>\n",
       "      <td>(generation_1)</td>\n",
       "      <td>(sex_1)</td>\n",
       "      <td>0.075395</td>\n",
       "      <td>0.79054</td>\n",
       "      <td>0.050268</td>\n",
       "      <td>0.666724</td>\n",
       "      <td>0.843378</td>\n",
       "      <td>-0.009335</td>\n",
       "      <td>0.628489</td>\n",
       "    </tr>\n",
       "    <tr>\n",
       "      <th>19</th>\n",
       "      <td>(generation_2)</td>\n",
       "      <td>(sex_1)</td>\n",
       "      <td>0.224068</td>\n",
       "      <td>0.79054</td>\n",
       "      <td>0.185071</td>\n",
       "      <td>0.825961</td>\n",
       "      <td>1.044807</td>\n",
       "      <td>0.007937</td>\n",
       "      <td>1.203526</td>\n",
       "    </tr>\n",
       "    <tr>\n",
       "      <th>20</th>\n",
       "      <td>(generation_4)</td>\n",
       "      <td>(sex_1)</td>\n",
       "      <td>0.084944</td>\n",
       "      <td>0.79054</td>\n",
       "      <td>0.070168</td>\n",
       "      <td>0.826050</td>\n",
       "      <td>1.044920</td>\n",
       "      <td>0.003016</td>\n",
       "      <td>1.204144</td>\n",
       "    </tr>\n",
       "    <tr>\n",
       "      <th>23</th>\n",
       "      <td>(generation_5)</td>\n",
       "      <td>(sex_1)</td>\n",
       "      <td>0.267527</td>\n",
       "      <td>0.79054</td>\n",
       "      <td>0.201020</td>\n",
       "      <td>0.751398</td>\n",
       "      <td>0.950488</td>\n",
       "      <td>-0.010471</td>\n",
       "      <td>0.842554</td>\n",
       "    </tr>\n",
       "    <tr>\n",
       "      <th>26</th>\n",
       "      <td>(country_Russian Federation, generation_0)</td>\n",
       "      <td>(sex_1)</td>\n",
       "      <td>0.075207</td>\n",
       "      <td>0.79054</td>\n",
       "      <td>0.065517</td>\n",
       "      <td>0.871146</td>\n",
       "      <td>1.101963</td>\n",
       "      <td>0.006062</td>\n",
       "      <td>1.625557</td>\n",
       "    </tr>\n",
       "  </tbody>\n",
       "</table>\n",
       "</div>"
      ],
      "text/plain": [
       "                                   antecedents consequents  \\\n",
       "1                              (country_Japan)     (sex_1)   \n",
       "3                 (country_Russian Federation)     (sex_1)   \n",
       "7                      (country_United States)     (sex_1)   \n",
       "15                              (generation_0)     (sex_1)   \n",
       "17                              (generation_1)     (sex_1)   \n",
       "19                              (generation_2)     (sex_1)   \n",
       "20                              (generation_4)     (sex_1)   \n",
       "23                              (generation_5)     (sex_1)   \n",
       "26  (country_Russian Federation, generation_0)     (sex_1)   \n",
       "\n",
       "    antecedent support  consequent support   support  confidence      lift  \\\n",
       "1             0.126862             0.79054  0.087943    0.693219  0.876893   \n",
       "3             0.191957             0.79054  0.159270    0.829717  1.049557   \n",
       "7             0.160125             0.79054  0.129304    0.807516  1.021475   \n",
       "15            0.347664             0.79054  0.283644    0.815856  1.032024   \n",
       "17            0.075395             0.79054  0.050268    0.666724  0.843378   \n",
       "19            0.224068             0.79054  0.185071    0.825961  1.044807   \n",
       "20            0.084944             0.79054  0.070168    0.826050  1.044920   \n",
       "23            0.267527             0.79054  0.201020    0.751398  0.950488   \n",
       "26            0.075207             0.79054  0.065517    0.871146  1.101963   \n",
       "\n",
       "    leverage  conviction  \n",
       "1  -0.012346    0.682768  \n",
       "3   0.007520    1.230070  \n",
       "7   0.002718    1.088198  \n",
       "15  0.008802    1.137481  \n",
       "17 -0.009335    0.628489  \n",
       "19  0.007937    1.203526  \n",
       "20  0.003016    1.204144  \n",
       "23 -0.010471    0.842554  \n",
       "26  0.006062    1.625557  "
      ]
     },
     "execution_count": 35,
     "metadata": {},
     "output_type": "execute_result"
    }
   ],
   "source": [
    "# filtramos aquellas reglas que son de alta confianza:\n",
    "reglas_confianza_5 = reglas_alta_confianza(reglas,0.5)\n",
    "reglas_confianza_5"
   ]
  },
  {
   "cell_type": "code",
   "execution_count": 36,
   "metadata": {},
   "outputs": [],
   "source": [
    "# preparamos para hacer las gráficas para visualizar las reglas obtenidas\n",
    "cantidad_reglas_confianza_por_antecesor = reglas_confianza_5.groupby(['antecedents']).size().reset_index(name='counts')\n",
    "cantidad_reglas_confianza_por_antecesor[\"antecedents\"] = cantidad_reglas_confianza_por_antecesor[\"antecedents\"].apply(lambda x: list(x)).astype(\"unicode\")\n",
    "cantidad_reglas_por_antecesor = reglas.groupby(['antecedents']).size().reset_index(name='counts')\n",
    "cantidad_reglas_por_antecesor[\"antecedents\"] = cantidad_reglas_por_antecesor[\"antecedents\"].apply(lambda x: list(x)).astype(\"unicode\")"
   ]
  },
  {
   "cell_type": "code",
   "execution_count": 37,
   "metadata": {},
   "outputs": [
    {
     "data": {
      "text/plain": [
       "<BarContainer object of 9 artists>"
      ]
     },
     "execution_count": 37,
     "metadata": {},
     "output_type": "execute_result"
    },
    {
     "data": {
      "image/png": "[encoded data removed]",
      "text/plain": [
       "<Figure size 576x396 with 1 Axes>"
      ]
     },
     "metadata": {},
     "output_type": "display_data"
    }
   ],
   "source": [
    "# ahora crearemos un diagrama de barras para saber las reglas con alta confianza que comparten antecesor.\n",
    "fig = plt.figure()\n",
    "ax = fig.add_axes([0,0,3,1])\n",
    "antecedentes_fig = np.arange(len(cantidad_reglas_confianza_por_antecesor[\"antecedents\"]))\n",
    "cantidades_fig = cantidad_reglas_confianza_por_antecesor[\"counts\"]\n",
    "\n",
    "ax.bar(antecedentes_fig,cantidades_fig)"
   ]
  },
  {
   "cell_type": "markdown",
   "metadata": {},
   "source": [
    "<font color = \"blue\">\n",
    "    <p>Tal y como podemos ver en esta gráfica, en las reglas de alta confianza los antecedentes tienen en su totalidad un antecedente distinto, por lo que significa que estas reglas son muy pequeñas y selectivas.</p>\n",
    "</font>"
   ]
  },
  {
   "cell_type": "code",
   "execution_count": 38,
   "metadata": {},
   "outputs": [
    {
     "data": {
      "text/plain": [
       "<BarContainer object of 13 artists>"
      ]
     },
     "execution_count": 38,
     "metadata": {},
     "output_type": "execute_result"
    },
    {
     "data": {
      "image/png": "[encoded data removed]",
      "text/plain": [
       "<Figure size 576x396 with 1 Axes>"
      ]
     },
     "metadata": {},
     "output_type": "display_data"
    }
   ],
   "source": [
    "# ahora crearemos un diagrama de barras para saber las reglas sin alta confianza que comparten antecesor.\n",
    "fig = plt.figure()\n",
    "ax = fig.add_axes([0,0,3,1])\n",
    "consecuentes_fig = np.arange(len(cantidad_reglas_por_antecesor[\"antecedents\"]))\n",
    "cantidades_fig = cantidad_reglas_por_antecesor[\"counts\"]\n",
    "\n",
    "ax.bar(consecuentes_fig,cantidades_fig)"
   ]
  },
  {
   "cell_type": "markdown",
   "metadata": {},
   "source": [
    "<font color = \"blue\">\n",
    "    <p>En esta gráfica, podemos observar que existen 13 antecedentes diferentes en los cuales en dos superan la cantidad de 5 unidades. Esto significa que hay muchas reglas que comparten antecedentes.</p>\n",
    "</font>"
   ]
  },
  {
   "cell_type": "code",
   "execution_count": 39,
   "metadata": {},
   "outputs": [],
   "source": [
    "cantidad_reglas_confianza_por_consequents = reglas_confianza_5.groupby(['consequents']).size().reset_index(name='counts')\n",
    "cantidad_reglas_confianza_por_consequents[\"consequents\"] = cantidad_reglas_confianza_por_consequents[\"consequents\"].apply(lambda x: list(x)).astype(\"unicode\")\n",
    "cantidad_reglas_por_consequents = reglas.groupby(['consequents']).size().reset_index(name='counts')\n",
    "cantidad_reglas_por_consequents[\"consequents\"] = cantidad_reglas_por_consequents[\"consequents\"].apply(lambda x: list(x)).astype(\"unicode\")"
   ]
  },
  {
   "cell_type": "code",
   "execution_count": 40,
   "metadata": {},
   "outputs": [
    {
     "data": {
      "text/plain": [
       "<BarContainer object of 1 artists>"
      ]
     },
     "execution_count": 40,
     "metadata": {},
     "output_type": "execute_result"
    },
    {
     "data": {
      "image/png": "[encoded data removed]",
      "text/plain": [
       "<Figure size 576x396 with 1 Axes>"
      ]
     },
     "metadata": {},
     "output_type": "display_data"
    }
   ],
   "source": [
    "# ahora crearemos un diagrama de barras para saber las reglas con alta confianza que comparten consecuentes.\n",
    "fig = plt.figure()\n",
    "ax = fig.add_axes([0,0,3,1])\n",
    "consecuentes_fig = np.arange(len(cantidad_reglas_confianza_por_consequents[\"consequents\"]))\n",
    "cantidades_fig = cantidad_reglas_confianza_por_consequents[\"counts\"]\n",
    "\n",
    "ax.bar(consecuentes_fig,cantidades_fig)"
   ]
  },
  {
   "cell_type": "markdown",
   "metadata": {},
   "source": [
    "<font color = \"blue\">\n",
    "    <p>Esta gráfica representa los distintos consecuentes que nos encontramos en todas las reglas generadas. Tal y como se puede observar en esta gráfica, solo nos encontramos con un antecesor(sex).</p>\n",
    "    <p>Esto puede surgir debido a que la mayoría de reglas que hemos obtenido además de las de altac onfianza, cuentan muchas veces con este dato tan utilizado.</p>\n",
    "</font>"
   ]
  },
  {
   "cell_type": "code",
   "execution_count": 41,
   "metadata": {},
   "outputs": [
    {
     "data": {
      "text/plain": [
       "<BarContainer object of 13 artists>"
      ]
     },
     "execution_count": 41,
     "metadata": {},
     "output_type": "execute_result"
    },
    {
     "data": {
      "image/png": "[encoded data removed]",
      "text/plain": [
       "<Figure size 576x396 with 1 Axes>"
      ]
     },
     "metadata": {},
     "output_type": "display_data"
    }
   ],
   "source": [
    "# ahora crearemos un diagrama de barras para saber las reglas sin alta confianza que comparten consecuentes.\n",
    "fig = plt.figure()\n",
    "ax = fig.add_axes([0,0,3,1])\n",
    "consecuentes_fig = np.arange(len(cantidad_reglas_por_consequents[\"consequents\"]))\n",
    "cantidades_fig = cantidad_reglas_por_consequents[\"counts\"]\n",
    "\n",
    "ax.bar(consecuentes_fig,cantidades_fig)"
   ]
  },
  {
   "cell_type": "markdown",
   "metadata": {},
   "source": [
    "<font color=\"blue\">\n",
    "    <p>Esta gráfica nos presenta los consecuentes distintos que hay en todas las reglas. Y, funciona de la misma forma que su respectiva gráfica de antecedentes</p>\n",
    "</font>"
   ]
  },
  {
   "cell_type": "markdown",
   "metadata": {},
   "source": [
    " ### KNN"
   ]
  },
  {
   "cell_type": "code",
   "execution_count": 42,
   "metadata": {
    "scrolled": true
   },
   "outputs": [
    {
     "data": {
      "text/html": [
       "<div>\n",
       "<style scoped>\n",
       "    .dataframe tbody tr th:only-of-type {\n",
       "        vertical-align: middle;\n",
       "    }\n",
       "\n",
       "    .dataframe tbody tr th {\n",
       "        vertical-align: top;\n",
       "    }\n",
       "\n",
       "    .dataframe thead th {\n",
       "        text-align: right;\n",
       "    }\n",
       "</style>\n",
       "<table border=\"1\" class=\"dataframe\">\n",
       "  <thead>\n",
       "    <tr style=\"text-align: right;\">\n",
       "      <th></th>\n",
       "      <th>HDI for year</th>\n",
       "      <th>suicides/100k pop</th>\n",
       "      <th>generation</th>\n",
       "    </tr>\n",
       "  </thead>\n",
       "  <tbody>\n",
       "    <tr>\n",
       "      <th>588</th>\n",
       "      <td>0.694</td>\n",
       "      <td>55.65</td>\n",
       "      <td>1.0</td>\n",
       "    </tr>\n",
       "    <tr>\n",
       "      <th>588</th>\n",
       "      <td>0.694</td>\n",
       "      <td>55.65</td>\n",
       "      <td>1.0</td>\n",
       "    </tr>\n",
       "    <tr>\n",
       "      <th>588</th>\n",
       "      <td>0.694</td>\n",
       "      <td>55.65</td>\n",
       "      <td>1.0</td>\n",
       "    </tr>\n",
       "    <tr>\n",
       "      <th>588</th>\n",
       "      <td>0.694</td>\n",
       "      <td>55.65</td>\n",
       "      <td>1.0</td>\n",
       "    </tr>\n",
       "    <tr>\n",
       "      <th>589</th>\n",
       "      <td>0.694</td>\n",
       "      <td>24.29</td>\n",
       "      <td>1.0</td>\n",
       "    </tr>\n",
       "    <tr>\n",
       "      <th>...</th>\n",
       "      <td>...</td>\n",
       "      <td>...</td>\n",
       "      <td>...</td>\n",
       "    </tr>\n",
       "    <tr>\n",
       "      <th>27814</th>\n",
       "      <td>0.675</td>\n",
       "      <td>5.92</td>\n",
       "      <td>4.0</td>\n",
       "    </tr>\n",
       "    <tr>\n",
       "      <th>27814</th>\n",
       "      <td>0.675</td>\n",
       "      <td>5.92</td>\n",
       "      <td>4.0</td>\n",
       "    </tr>\n",
       "    <tr>\n",
       "      <th>27814</th>\n",
       "      <td>0.675</td>\n",
       "      <td>5.92</td>\n",
       "      <td>4.0</td>\n",
       "    </tr>\n",
       "    <tr>\n",
       "      <th>27815</th>\n",
       "      <td>0.675</td>\n",
       "      <td>2.96</td>\n",
       "      <td>2.0</td>\n",
       "    </tr>\n",
       "    <tr>\n",
       "      <th>27817</th>\n",
       "      <td>0.675</td>\n",
       "      <td>2.17</td>\n",
       "      <td>3.0</td>\n",
       "    </tr>\n",
       "  </tbody>\n",
       "</table>\n",
       "<p>154373 rows × 3 columns</p>\n",
       "</div>"
      ],
      "text/plain": [
       "       HDI for year  suicides/100k pop  generation\n",
       "588           0.694              55.65         1.0\n",
       "588           0.694              55.65         1.0\n",
       "588           0.694              55.65         1.0\n",
       "588           0.694              55.65         1.0\n",
       "589           0.694              24.29         1.0\n",
       "...             ...                ...         ...\n",
       "27814         0.675               5.92         4.0\n",
       "27814         0.675               5.92         4.0\n",
       "27814         0.675               5.92         4.0\n",
       "27815         0.675               2.96         2.0\n",
       "27817         0.675               2.17         3.0\n",
       "\n",
       "[154373 rows x 3 columns]"
      ]
     },
     "execution_count": 42,
     "metadata": {},
     "output_type": "execute_result"
    }
   ],
   "source": [
    "columnas_KNN = ['HDI for year','suicides/100k pop','generation']\n",
    "\n",
    "dataset_KNN = data[columnas_KNN]\n",
    "dataset_KNN.head(5)\n",
    "\n",
    "aux = pd.DataFrame(columns = columnas_KNN)\n",
    "for i in range(dataset_KNN.shape[0]):\n",
    "    pob = int(data.population[i])\n",
    "    suicide_rel = int(data['suicides/100k pop'][i])\n",
    "    cant = int(pob*suicide_rel/4000000)\n",
    "    z = pd.DataFrame(dataset_KNN.iloc[i,:]).T\n",
    "    if cant >= 1: \n",
    "        aux = pd.concat([aux,pd.concat([z]*cant)])\n",
    "aux"
   ]
  },
  {
   "cell_type": "code",
   "execution_count": 43,
   "metadata": {},
   "outputs": [
    {
     "data": {
      "text/html": [
       "<div>\n",
       "<style scoped>\n",
       "    .dataframe tbody tr th:only-of-type {\n",
       "        vertical-align: middle;\n",
       "    }\n",
       "\n",
       "    .dataframe tbody tr th {\n",
       "        vertical-align: top;\n",
       "    }\n",
       "\n",
       "    .dataframe thead th {\n",
       "        text-align: right;\n",
       "    }\n",
       "</style>\n",
       "<table border=\"1\" class=\"dataframe\">\n",
       "  <thead>\n",
       "    <tr style=\"text-align: right;\">\n",
       "      <th></th>\n",
       "      <th>HDI for year</th>\n",
       "      <th>suicides/100k pop</th>\n",
       "      <th>generation</th>\n",
       "    </tr>\n",
       "  </thead>\n",
       "  <tbody>\n",
       "    <tr>\n",
       "      <th>588</th>\n",
       "      <td>0.694</td>\n",
       "      <td>55.65</td>\n",
       "      <td>1.0</td>\n",
       "    </tr>\n",
       "    <tr>\n",
       "      <th>588</th>\n",
       "      <td>0.694</td>\n",
       "      <td>55.65</td>\n",
       "      <td>1.0</td>\n",
       "    </tr>\n",
       "    <tr>\n",
       "      <th>588</th>\n",
       "      <td>0.694</td>\n",
       "      <td>55.65</td>\n",
       "      <td>1.0</td>\n",
       "    </tr>\n",
       "    <tr>\n",
       "      <th>588</th>\n",
       "      <td>0.694</td>\n",
       "      <td>55.65</td>\n",
       "      <td>1.0</td>\n",
       "    </tr>\n",
       "    <tr>\n",
       "      <th>589</th>\n",
       "      <td>0.694</td>\n",
       "      <td>24.29</td>\n",
       "      <td>1.0</td>\n",
       "    </tr>\n",
       "    <tr>\n",
       "      <th>...</th>\n",
       "      <td>...</td>\n",
       "      <td>...</td>\n",
       "      <td>...</td>\n",
       "    </tr>\n",
       "    <tr>\n",
       "      <th>27814</th>\n",
       "      <td>0.675</td>\n",
       "      <td>5.92</td>\n",
       "      <td>4.0</td>\n",
       "    </tr>\n",
       "    <tr>\n",
       "      <th>27814</th>\n",
       "      <td>0.675</td>\n",
       "      <td>5.92</td>\n",
       "      <td>4.0</td>\n",
       "    </tr>\n",
       "    <tr>\n",
       "      <th>27814</th>\n",
       "      <td>0.675</td>\n",
       "      <td>5.92</td>\n",
       "      <td>4.0</td>\n",
       "    </tr>\n",
       "    <tr>\n",
       "      <th>27815</th>\n",
       "      <td>0.675</td>\n",
       "      <td>2.96</td>\n",
       "      <td>2.0</td>\n",
       "    </tr>\n",
       "    <tr>\n",
       "      <th>27817</th>\n",
       "      <td>0.675</td>\n",
       "      <td>2.17</td>\n",
       "      <td>3.0</td>\n",
       "    </tr>\n",
       "  </tbody>\n",
       "</table>\n",
       "<p>154373 rows × 3 columns</p>\n",
       "</div>"
      ],
      "text/plain": [
       "       HDI for year  suicides/100k pop  generation\n",
       "588           0.694              55.65         1.0\n",
       "588           0.694              55.65         1.0\n",
       "588           0.694              55.65         1.0\n",
       "588           0.694              55.65         1.0\n",
       "589           0.694              24.29         1.0\n",
       "...             ...                ...         ...\n",
       "27814         0.675               5.92         4.0\n",
       "27814         0.675               5.92         4.0\n",
       "27814         0.675               5.92         4.0\n",
       "27815         0.675               2.96         2.0\n",
       "27817         0.675               2.17         3.0\n",
       "\n",
       "[154373 rows x 3 columns]"
      ]
     },
     "execution_count": 43,
     "metadata": {},
     "output_type": "execute_result"
    }
   ],
   "source": [
    "dataf = aux\n",
    "dataf\n",
    "dataframe = dataf\n",
    "dataframe"
   ]
  },
  {
   "cell_type": "markdown",
   "metadata": {},
   "source": [
    "<font color = \"blue\">\n",
    "    <p>\n",
    "        Una vez estudiados los datos, creemos que se puede obtener una relación entre el índice de desarrollo humano (HDI for year) y el número de suicidos de cada país, que nos permita establecer la generación a la que pertenezca el individuo que se haya seleccionado. Para ello, se ha implementado el algoritmo KNN, y se ha estudiado el mejor valor de K, para ofrecer resultados óptimos en función de los datos.  \n",
    "    </p>"
   ]
  },
  {
   "cell_type": "code",
   "execution_count": 44,
   "metadata": {},
   "outputs": [],
   "source": [
    "#Primero se preprocesan los datos para que pueda trabajar el algoritmo KNN, ya que daba una serie de problemas al \n",
    "#operar con datos de tipo float\n",
    "lab_enc = preprocessing.LabelEncoder()\n",
    "dataframe['suicides/100k pop'] = lab_enc.fit_transform(dataframe['suicides/100k pop'])\n",
    "dataframe['HDI for year'] = lab_enc.fit_transform(dataframe['HDI for year'])"
   ]
  },
  {
   "cell_type": "code",
   "execution_count": 45,
   "metadata": {},
   "outputs": [],
   "source": [
    "#Se localizan los datos: para el eje x, el indice de desarrollo humano y el PIB anual; y para el eje y las generaciones\n",
    "X = dataframe[['HDI for year','suicides/100k pop']].values\n",
    "y = dataframe['generation'].values\n",
    "\n",
    "#Se dividen los datos en subconjuntos de entrenamiento y test que serán utilizados más adelante. Se usa un random state de 42,\n",
    "#para elegir de manera aleatoria cada individuo de cada subgrupo\n",
    "X_train, X_test, y_train, y_test = train_test_split(X, y, random_state=42)\n",
    "scaler = MinMaxScaler()\n",
    "X_train = scaler.fit_transform(X_train)\n",
    "X_test = scaler.transform(X_test)"
   ]
  },
  {
   "cell_type": "code",
   "execution_count": 46,
   "metadata": {},
   "outputs": [
    {
     "data": {
      "text/plain": [
       "<matplotlib.collections.PathCollection at 0x1c6a1c79fd0>"
      ]
     },
     "execution_count": 46,
     "metadata": {},
     "output_type": "execute_result"
    },
    {
     "data": {
      "image/png": "[encoded data removed]",
      "text/plain": [
       "<Figure size 576x396 with 1 Axes>"
      ]
     },
     "metadata": {},
     "output_type": "display_data"
    }
   ],
   "source": [
    "#Se realiza un estudio del mejor valor de k, para los datos presentados. \n",
    "k_range = range(1, 30)\n",
    "scores = []\n",
    "for k in k_range:\n",
    "    knn = KNeighborsClassifier(n_neighbors = k)\n",
    "    knn.fit(X_train, y_train)\n",
    "    scores.append(knn.score(X_test, y_test))\n",
    "plt.figure()\n",
    "plt.xlabel('k')\n",
    "plt.ylabel('accuracy')\n",
    "plt.scatter(k_range, scores)"
   ]
  },
  {
   "cell_type": "markdown",
   "metadata": {},
   "source": [
    "<font color = \"blue\">\n",
    "    <p>\n",
    "        Como podemos obervar, la precisión en función del valor de K presenta un decrecimiento lineal, debido a que debe clasificar en cinco clases diferenciadas (cada generación). Esto es debido a que se presentan datos muy repetidos (hay países, que cuentan con cinco registros iguales del indice humano de desarrollo -HDI- por ejemplo), y va disminuyendo la precisión debido a esas repeticiones, por lo que se elige tomar un valor pequeño. Se escoge k = 2, aunque k = 1 ofrezca mejores resultados, ya que si elegimos k = 1,se realiza un ajuste excesivo de los datos a la hora de clasificarlos, aun presentando el valor más óptimo en cuanto a la clasificación se refiere.\n",
    "    </p>"
   ]
  },
  {
   "cell_type": "code",
   "execution_count": 47,
   "metadata": {},
   "outputs": [
    {
     "name": "stdout",
     "output_type": "stream",
     "text": [
      "Accuracy of K-NN classifier on training set: 0.99\n",
      "Accuracy of K-NN classifier on test set: 0.97\n"
     ]
    }
   ],
   "source": [
    "#Se prueba el modelo con la k elegida\n",
    "n_neighbors = 2\n",
    "\n",
    "knn = KNeighborsClassifier(n_neighbors)\n",
    "knn.fit(X_train, y_train)\n",
    "print('Accuracy of K-NN classifier on training set: {:.2f}'\n",
    "     .format(knn.score(X_train, y_train)))\n",
    "print('Accuracy of K-NN classifier on test set: {:.2f}'\n",
    "     .format(knn.score(X_test, y_test)))"
   ]
  },
  {
   "cell_type": "code",
   "execution_count": 48,
   "metadata": {},
   "outputs": [
    {
     "name": "stdout",
     "output_type": "stream",
     "text": [
      "[[13324     9    49     0    24    34]\n",
      " [   54  2827    27     0     1    25]\n",
      " [  186    42  8375     0    26    33]\n",
      " [    3     0     5    11     0     1]\n",
      " [   79    20    98     0  3068    19]\n",
      " [  152    59   101     1    51  9890]]\n",
      "\n",
      "\n",
      "\n",
      "              precision    recall  f1-score   support\n",
      "\n",
      "         0.0       0.97      0.99      0.98     13440\n",
      "         1.0       0.96      0.96      0.96      2934\n",
      "         2.0       0.97      0.97      0.97      8662\n",
      "         3.0       0.92      0.55      0.69        20\n",
      "         4.0       0.97      0.93      0.95      3284\n",
      "         5.0       0.99      0.96      0.98     10254\n",
      "\n",
      "    accuracy                           0.97     38594\n",
      "   macro avg       0.96      0.90      0.92     38594\n",
      "weighted avg       0.97      0.97      0.97     38594\n",
      "\n"
     ]
    }
   ],
   "source": [
    "#Se imprime la matriz de confusión y el reporte de clasificaciones, con el fin de validar los resultados del algoritmo\n",
    "pred = knn.predict(X_test)\n",
    "print(confusion_matrix(y_test, pred))\n",
    "print(\"\\n\\n\")\n",
    "print(classification_report(y_test, pred))"
   ]
  },
  {
   "cell_type": "markdown",
   "metadata": {},
   "source": [
    "# K - Means"
   ]
  },
  {
   "cell_type": "code",
   "execution_count": 49,
   "metadata": {},
   "outputs": [],
   "source": [
    "data = data.rename(columns={' gdp_for_year ($) ': 'gdp_for_year', 'gdp_per_capita ($)': 'gdp_per_capita'})"
   ]
  },
  {
   "cell_type": "markdown",
   "metadata": {},
   "source": [
    "### Con la aplicación de este algoritmo queremos observar si ha habido algun cambio en la tendencia del numero de suicidios a traves del tiempo. Para esto vamos aplicar kmeans al año 1987 y al 2014 y estudiaremos las diferencias"
   ]
  },
  {
   "cell_type": "markdown",
   "metadata": {},
   "source": [
    "<font color=\"blue\">\n",
    "Eliminamos las columnas que no os interesan para el análisis."
   ]
  },
  {
   "cell_type": "code",
   "execution_count": 50,
   "metadata": {
    "scrolled": true
   },
   "outputs": [],
   "source": [
    "data_kmeans = data.drop(['sex', 'age', 'suicides/100k pop', 'HDI for year', 'gdp_for_year', 'gdp_per_capita','generation','country-year'], axis=1)"
   ]
  },
  {
   "cell_type": "code",
   "execution_count": 51,
   "metadata": {},
   "outputs": [
    {
     "data": {
      "text/html": [
       "<div>\n",
       "<style scoped>\n",
       "    .dataframe tbody tr th:only-of-type {\n",
       "        vertical-align: middle;\n",
       "    }\n",
       "\n",
       "    .dataframe tbody tr th {\n",
       "        vertical-align: top;\n",
       "    }\n",
       "\n",
       "    .dataframe thead th {\n",
       "        text-align: right;\n",
       "    }\n",
       "</style>\n",
       "<table border=\"1\" class=\"dataframe\">\n",
       "  <thead>\n",
       "    <tr style=\"text-align: right;\">\n",
       "      <th></th>\n",
       "      <th>country</th>\n",
       "      <th>year</th>\n",
       "      <th>suicides_no</th>\n",
       "      <th>population</th>\n",
       "    </tr>\n",
       "  </thead>\n",
       "  <tbody>\n",
       "    <tr>\n",
       "      <th>0</th>\n",
       "      <td>Albania</td>\n",
       "      <td>1987</td>\n",
       "      <td>21</td>\n",
       "      <td>312900</td>\n",
       "    </tr>\n",
       "    <tr>\n",
       "      <th>1</th>\n",
       "      <td>Albania</td>\n",
       "      <td>1987</td>\n",
       "      <td>16</td>\n",
       "      <td>308000</td>\n",
       "    </tr>\n",
       "    <tr>\n",
       "      <th>2</th>\n",
       "      <td>Albania</td>\n",
       "      <td>1987</td>\n",
       "      <td>14</td>\n",
       "      <td>289700</td>\n",
       "    </tr>\n",
       "    <tr>\n",
       "      <th>3</th>\n",
       "      <td>Albania</td>\n",
       "      <td>1987</td>\n",
       "      <td>1</td>\n",
       "      <td>21800</td>\n",
       "    </tr>\n",
       "    <tr>\n",
       "      <th>4</th>\n",
       "      <td>Albania</td>\n",
       "      <td>1987</td>\n",
       "      <td>9</td>\n",
       "      <td>274300</td>\n",
       "    </tr>\n",
       "    <tr>\n",
       "      <th>...</th>\n",
       "      <td>...</td>\n",
       "      <td>...</td>\n",
       "      <td>...</td>\n",
       "      <td>...</td>\n",
       "    </tr>\n",
       "    <tr>\n",
       "      <th>27815</th>\n",
       "      <td>Uzbekistan</td>\n",
       "      <td>2014</td>\n",
       "      <td>107</td>\n",
       "      <td>3620833</td>\n",
       "    </tr>\n",
       "    <tr>\n",
       "      <th>27816</th>\n",
       "      <td>Uzbekistan</td>\n",
       "      <td>2014</td>\n",
       "      <td>9</td>\n",
       "      <td>348465</td>\n",
       "    </tr>\n",
       "    <tr>\n",
       "      <th>27817</th>\n",
       "      <td>Uzbekistan</td>\n",
       "      <td>2014</td>\n",
       "      <td>60</td>\n",
       "      <td>2762158</td>\n",
       "    </tr>\n",
       "    <tr>\n",
       "      <th>27818</th>\n",
       "      <td>Uzbekistan</td>\n",
       "      <td>2014</td>\n",
       "      <td>44</td>\n",
       "      <td>2631600</td>\n",
       "    </tr>\n",
       "    <tr>\n",
       "      <th>27819</th>\n",
       "      <td>Uzbekistan</td>\n",
       "      <td>2014</td>\n",
       "      <td>21</td>\n",
       "      <td>1438935</td>\n",
       "    </tr>\n",
       "  </tbody>\n",
       "</table>\n",
       "<p>27820 rows × 4 columns</p>\n",
       "</div>"
      ],
      "text/plain": [
       "          country  year  suicides_no  population\n",
       "0         Albania  1987           21      312900\n",
       "1         Albania  1987           16      308000\n",
       "2         Albania  1987           14      289700\n",
       "3         Albania  1987            1       21800\n",
       "4         Albania  1987            9      274300\n",
       "...           ...   ...          ...         ...\n",
       "27815  Uzbekistan  2014          107     3620833\n",
       "27816  Uzbekistan  2014            9      348465\n",
       "27817  Uzbekistan  2014           60     2762158\n",
       "27818  Uzbekistan  2014           44     2631600\n",
       "27819  Uzbekistan  2014           21     1438935\n",
       "\n",
       "[27820 rows x 4 columns]"
      ]
     },
     "execution_count": 51,
     "metadata": {},
     "output_type": "execute_result"
    }
   ],
   "source": [
    "data_kmeans"
   ]
  },
  {
   "cell_type": "code",
   "execution_count": 52,
   "metadata": {},
   "outputs": [
    {
     "data": {
      "text/html": [
       "<div>\n",
       "<style scoped>\n",
       "    .dataframe tbody tr th:only-of-type {\n",
       "        vertical-align: middle;\n",
       "    }\n",
       "\n",
       "    .dataframe tbody tr th {\n",
       "        vertical-align: top;\n",
       "    }\n",
       "\n",
       "    .dataframe thead th {\n",
       "        text-align: right;\n",
       "    }\n",
       "</style>\n",
       "<table border=\"1\" class=\"dataframe\">\n",
       "  <thead>\n",
       "    <tr style=\"text-align: right;\">\n",
       "      <th></th>\n",
       "      <th>country</th>\n",
       "      <th>year</th>\n",
       "      <th>suicides_no</th>\n",
       "      <th>population</th>\n",
       "    </tr>\n",
       "  </thead>\n",
       "  <tbody>\n",
       "    <tr>\n",
       "      <th>0</th>\n",
       "      <td>Albania</td>\n",
       "      <td>1987</td>\n",
       "      <td>21</td>\n",
       "      <td>312900</td>\n",
       "    </tr>\n",
       "    <tr>\n",
       "      <th>1</th>\n",
       "      <td>Albania</td>\n",
       "      <td>1987</td>\n",
       "      <td>16</td>\n",
       "      <td>308000</td>\n",
       "    </tr>\n",
       "    <tr>\n",
       "      <th>2</th>\n",
       "      <td>Albania</td>\n",
       "      <td>1987</td>\n",
       "      <td>14</td>\n",
       "      <td>289700</td>\n",
       "    </tr>\n",
       "    <tr>\n",
       "      <th>3</th>\n",
       "      <td>Albania</td>\n",
       "      <td>1987</td>\n",
       "      <td>1</td>\n",
       "      <td>21800</td>\n",
       "    </tr>\n",
       "    <tr>\n",
       "      <th>4</th>\n",
       "      <td>Albania</td>\n",
       "      <td>1987</td>\n",
       "      <td>9</td>\n",
       "      <td>274300</td>\n",
       "    </tr>\n",
       "    <tr>\n",
       "      <th>...</th>\n",
       "      <td>...</td>\n",
       "      <td>...</td>\n",
       "      <td>...</td>\n",
       "      <td>...</td>\n",
       "    </tr>\n",
       "    <tr>\n",
       "      <th>27251</th>\n",
       "      <td>Uruguay</td>\n",
       "      <td>1987</td>\n",
       "      <td>19</td>\n",
       "      <td>352300</td>\n",
       "    </tr>\n",
       "    <tr>\n",
       "      <th>27252</th>\n",
       "      <td>Uruguay</td>\n",
       "      <td>1987</td>\n",
       "      <td>7</td>\n",
       "      <td>206100</td>\n",
       "    </tr>\n",
       "    <tr>\n",
       "      <th>27253</th>\n",
       "      <td>Uruguay</td>\n",
       "      <td>1987</td>\n",
       "      <td>7</td>\n",
       "      <td>243700</td>\n",
       "    </tr>\n",
       "    <tr>\n",
       "      <th>27254</th>\n",
       "      <td>Uruguay</td>\n",
       "      <td>1987</td>\n",
       "      <td>1</td>\n",
       "      <td>267000</td>\n",
       "    </tr>\n",
       "    <tr>\n",
       "      <th>27255</th>\n",
       "      <td>Uruguay</td>\n",
       "      <td>1987</td>\n",
       "      <td>1</td>\n",
       "      <td>275200</td>\n",
       "    </tr>\n",
       "  </tbody>\n",
       "</table>\n",
       "<p>648 rows × 4 columns</p>\n",
       "</div>"
      ],
      "text/plain": [
       "       country  year  suicides_no  population\n",
       "0      Albania  1987           21      312900\n",
       "1      Albania  1987           16      308000\n",
       "2      Albania  1987           14      289700\n",
       "3      Albania  1987            1       21800\n",
       "4      Albania  1987            9      274300\n",
       "...        ...   ...          ...         ...\n",
       "27251  Uruguay  1987           19      352300\n",
       "27252  Uruguay  1987            7      206100\n",
       "27253  Uruguay  1987            7      243700\n",
       "27254  Uruguay  1987            1      267000\n",
       "27255  Uruguay  1987            1      275200\n",
       "\n",
       "[648 rows x 4 columns]"
      ]
     },
     "execution_count": 52,
     "metadata": {},
     "output_type": "execute_result"
    }
   ],
   "source": [
    "data_kmeans_1987 =  data_kmeans[data_kmeans['year'] == 1987]\n",
    "data_kmeans_2014 =  data_kmeans[data_kmeans['year'] == 2014]\n",
    "data_kmeans_1987"
   ]
  },
  {
   "cell_type": "markdown",
   "metadata": {},
   "source": [
    "<font color=\"blue\">\n",
    "    Tal y como esta el dataset tenemos que transfornmarlo para adaptarlo a nuestras necesidades. Por lo que agrpumaos por pais y relizamos la suma para obtener el numero de total de suicidios y de la poblacion analizado."
   ]
  },
  {
   "cell_type": "code",
   "execution_count": 53,
   "metadata": {
    "scrolled": true
   },
   "outputs": [],
   "source": [
    "data_kmeans_1987 = data_kmeans_1987.groupby( ['country'], sort= False).sum()\n",
    "data_kmeans_2014 = data_kmeans_2014.groupby( ['country'], sort= False).sum()\n",
    "data_kmeans_1987 = data_kmeans_1987.drop(['year'],axis =1) \n",
    "data_kmeans_2014 = data_kmeans_2014.drop(['year'],axis =1) "
   ]
  },
  {
   "cell_type": "markdown",
   "metadata": {},
   "source": [
    "<font color=\"blue\">\n",
    "<p>Quitamos la columna year</p>\n",
    "<p>Y pasamos a un array para trabajar mejor</p>"
   ]
  },
  {
   "cell_type": "code",
   "execution_count": 54,
   "metadata": {},
   "outputs": [],
   "source": [
    "data_kmeans_1987 = data_kmeans_1987.values\n",
    "data_kmeans_2014 = data_kmeans_2014.values"
   ]
  },
  {
   "cell_type": "markdown",
   "metadata": {},
   "source": [
    "<font color=\"blue\">\n",
    "    Comenzamos la búsqueda de la mejor 'K' para el algoritmo. Para ello estudiamos cual es el comportamiento del algoritmo para diferntes K's."
   ]
  },
  {
   "cell_type": "code",
   "execution_count": 55,
   "metadata": {},
   "outputs": [
    {
     "data": {
      "image/png": "[encoded data removed]",
      "text/plain": [
       "<Figure size 576x396 with 2 Axes>"
      ]
     },
     "metadata": {},
     "output_type": "display_data"
    },
    {
     "data": {
      "text/plain": [
       "<AxesSubplot:title={'center':'Distortion Score Elbow for KMeans Clustering'}, xlabel='k', ylabel='distortion score'>"
      ]
     },
     "execution_count": 55,
     "metadata": {},
     "output_type": "execute_result"
    }
   ],
   "source": [
    "model = KMeans()\n",
    "visualizer = KElbowVisualizer(model, k=(2,30), timings= True)\n",
    "visualizer.fit(data_kmeans_1987)     \n",
    "visualizer.show()  "
   ]
  },
  {
   "cell_type": "code",
   "execution_count": 56,
   "metadata": {},
   "outputs": [
    {
     "data": {
      "image/png": "[encoded data removed]",
      "text/plain": [
       "<Figure size 576x396 with 2 Axes>"
      ]
     },
     "metadata": {},
     "output_type": "display_data"
    },
    {
     "data": {
      "text/plain": [
       "<AxesSubplot:title={'center':'Distortion Score Elbow for KMeans Clustering'}, xlabel='k', ylabel='distortion score'>"
      ]
     },
     "execution_count": 56,
     "metadata": {},
     "output_type": "execute_result"
    }
   ],
   "source": [
    "model = KMeans()\n",
    "visualizer = KElbowVisualizer(model, k=(2,30), timings= True)\n",
    "visualizer.fit(data_kmeans_2014)     \n",
    "visualizer.show() "
   ]
  },
  {
   "cell_type": "markdown",
   "metadata": {},
   "source": [
    "### Como podemos ver el mejor k es 5 por lo que lo utilizaremos para estudiar los resultados"
   ]
  },
  {
   "cell_type": "markdown",
   "metadata": {},
   "source": [
    "<font color = \"blue\">A continuacion crearenos los modelos y evauaremos su utilidad para nuestra hipotesis."
   ]
  },
  {
   "cell_type": "code",
   "execution_count": 57,
   "metadata": {},
   "outputs": [
    {
     "data": {
      "image/png": "[encoded data removed]",
      "text/plain": [
       "<Figure size 576x396 with 1 Axes>"
      ]
     },
     "metadata": {},
     "output_type": "display_data"
    }
   ],
   "source": [
    "kmeans = KMeans(n_clusters=5, algorithm='full', n_init=40).fit(data_kmeans_1987)# creamos el modelo de kmeans para k=5\n",
    "centroids = kmeans.cluster_centers_#añadimos los centroides\n",
    "kmeans.n_iter_\n",
    "labels = kmeans.predict(data_kmeans_1987)\n",
    "plt.scatter(data_kmeans_1987[:, 0], data_kmeans_1987[:, 1], c=labels, s=50, cmap='viridis')#pintamos el dataset\n",
    "centers = kmeans.cluster_centers_\n",
    "plt.scatter(centers[:, 0], centers[:, 1], c='blue', s=200, alpha=0.5);#pintamos los centroides"
   ]
  },
  {
   "cell_type": "code",
   "execution_count": 58,
   "metadata": {},
   "outputs": [
    {
     "data": {
      "image/png": "[encoded data removed]",
      "text/plain": [
       "<Figure size 576x396 with 1 Axes>"
      ]
     },
     "metadata": {},
     "output_type": "display_data"
    }
   ],
   "source": [
    "kmeans = KMeans(n_clusters=5, algorithm='full', n_init=40).fit(data_kmeans_2014)# creamos el modelo de kmeans para k=5\n",
    "centroids = kmeans.cluster_centers_#añadimos los centroides\n",
    "kmeans.n_iter_\n",
    "labels = kmeans.predict(data_kmeans_2014)\n",
    "plt.scatter(data_kmeans_2014[:, 0], data_kmeans_2014[:, 1], c=labels, s=50, cmap='viridis')#pintamos el dataset\n",
    "centers = kmeans.cluster_centers_\n",
    "plt.scatter(centers[:, 0], centers[:, 1], c='blue', s=200, alpha=0.5);#pintamos los centroides"
   ]
  },
  {
   "cell_type": "markdown",
   "metadata": {},
   "source": [
    "# Conclusion Kmeans"
   ]
  },
  {
   "cell_type": "markdown",
   "metadata": {},
   "source": [
    "<font color=\"blue\">Tal y como podemos observar en las graficas anteriores no hay casi ninguna variacion del numero de suidcidios por poblacion. Si que ha un cambio en la escala como es normal, hay mas poblacion pero el numerod e suicidios en lospasises evaluadps no ha aumentado significativamente. Esta experimento no nos ha parecido en un primer momento muy relevante pero viendo los resultados obtenidps en otras secciones nos da a entender que que al contrario de lo que pensabamos en un principioel porcentaje de suicidios por pais no ha crecido como creiamos."
   ]
  }
 ],
 "metadata": {
  "kernelspec": {
   "display_name": "Python 3",
   "language": "python",
   "name": "python3"
  },
  "language_info": {
   "codemirror_mode": {
    "name": "ipython",
    "version": 3
   },
   "file_extension": ".py",
   "mimetype": "text/x-python",
   "name": "python",
   "nbconvert_exporter": "python",
   "pygments_lexer": "ipython3",
   "version": "3.8.3"
  }
 },
 "nbformat": 4,
 "nbformat_minor": 4
}
